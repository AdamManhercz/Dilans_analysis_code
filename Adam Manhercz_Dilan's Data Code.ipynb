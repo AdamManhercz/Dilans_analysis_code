{
 "cells": [
  {
   "cell_type": "code",
   "execution_count": 1,
   "id": "64a4cf12",
   "metadata": {},
   "outputs": [],
   "source": [
    "## Created new column by dividing the date column to date and time columns in bash:\n",
    "## cat dilans_data.csv | sed -i 's//;/1' > /home/adammanhercz/dilans_data.csv\n",
    "\n",
    "## Importing libraries - Pandas, NumPy, Matplotlib\n",
    "\n",
    "import pandas as pd\n",
    "import numpy as np\n",
    "import matplotlib.pyplot as plt"
   ]
  },
  {
   "cell_type": "code",
   "execution_count": 2,
   "id": "66a94404",
   "metadata": {},
   "outputs": [],
   "source": [
    "## Reading the files\n",
    "## Creating 3 csv files in bash:\n",
    "## cat dilan_data.csv | grep 'read' > /home/adammanhercz/dilans_read.csv\n",
    "## cat dilan_data.csv | grep 'subscribe' > /home/adammanhercz/dilans_sub.csv\n",
    "## cat dilan_data.csv | grep 'buy' > /home/adammanhercz/dilans_buy.csv\n",
    "\n",
    "read= pd.read_csv(\"dilans_read.csv\", delimiter=\";\",  names=[\"date\", \"time\", \"event_type\", \"country\", \"user_id\", \"source\", \"topic\"])\n",
    "sub = pd.read_csv(\"dilans_sub.csv\", delimiter=\";\", names=[\"date\", \"time\", \"event_type\", \"user_id\"])\n",
    "buy = pd.read_csv(\"dilans_buy.csv\", delimiter=\";\", names=[\"date\", \"time\", \"event_type\",\"user_id\", \"payment\"])"
   ]
  },
  {
   "cell_type": "code",
   "execution_count": 3,
   "id": "b2a92c8e",
   "metadata": {},
   "outputs": [
    {
     "data": {
      "text/html": [
       "<div>\n",
       "<style scoped>\n",
       "    .dataframe tbody tr th:only-of-type {\n",
       "        vertical-align: middle;\n",
       "    }\n",
       "\n",
       "    .dataframe tbody tr th {\n",
       "        vertical-align: top;\n",
       "    }\n",
       "\n",
       "    .dataframe thead th {\n",
       "        text-align: right;\n",
       "    }\n",
       "</style>\n",
       "<table border=\"1\" class=\"dataframe\">\n",
       "  <thead>\n",
       "    <tr style=\"text-align: right;\">\n",
       "      <th></th>\n",
       "      <th>date</th>\n",
       "      <th>time</th>\n",
       "      <th>event_type</th>\n",
       "      <th>country</th>\n",
       "      <th>user_id</th>\n",
       "      <th>source</th>\n",
       "      <th>topic</th>\n",
       "    </tr>\n",
       "  </thead>\n",
       "  <tbody>\n",
       "    <tr>\n",
       "      <th>0</th>\n",
       "      <td>2018-01-01</td>\n",
       "      <td>00:01:01</td>\n",
       "      <td>read</td>\n",
       "      <td>country_7</td>\n",
       "      <td>2458151261</td>\n",
       "      <td>SEO</td>\n",
       "      <td>North America</td>\n",
       "    </tr>\n",
       "    <tr>\n",
       "      <th>1</th>\n",
       "      <td>2018-01-01</td>\n",
       "      <td>00:03:20</td>\n",
       "      <td>read</td>\n",
       "      <td>country_7</td>\n",
       "      <td>2458151262</td>\n",
       "      <td>SEO</td>\n",
       "      <td>South America</td>\n",
       "    </tr>\n",
       "    <tr>\n",
       "      <th>2</th>\n",
       "      <td>2018-01-01</td>\n",
       "      <td>00:04:01</td>\n",
       "      <td>read</td>\n",
       "      <td>country_7</td>\n",
       "      <td>2458151263</td>\n",
       "      <td>AdWords</td>\n",
       "      <td>Africa</td>\n",
       "    </tr>\n",
       "    <tr>\n",
       "      <th>3</th>\n",
       "      <td>2018-01-01</td>\n",
       "      <td>00:04:02</td>\n",
       "      <td>read</td>\n",
       "      <td>country_7</td>\n",
       "      <td>2458151264</td>\n",
       "      <td>AdWords</td>\n",
       "      <td>Europe</td>\n",
       "    </tr>\n",
       "    <tr>\n",
       "      <th>4</th>\n",
       "      <td>2018-01-01</td>\n",
       "      <td>00:05:03</td>\n",
       "      <td>read</td>\n",
       "      <td>country_8</td>\n",
       "      <td>2458151265</td>\n",
       "      <td>Reddit</td>\n",
       "      <td>North America</td>\n",
       "    </tr>\n",
       "    <tr>\n",
       "      <th>...</th>\n",
       "      <td>...</td>\n",
       "      <td>...</td>\n",
       "      <td>...</td>\n",
       "      <td>...</td>\n",
       "      <td>...</td>\n",
       "      <td>...</td>\n",
       "      <td>...</td>\n",
       "    </tr>\n",
       "    <tr>\n",
       "      <th>581731</th>\n",
       "      <td>2018-03-30</td>\n",
       "      <td>23:57:06</td>\n",
       "      <td>read</td>\n",
       "      <td>country_1</td>\n",
       "      <td>2458361279</td>\n",
       "      <td>SEO</td>\n",
       "      <td>North America</td>\n",
       "    </tr>\n",
       "    <tr>\n",
       "      <th>581735</th>\n",
       "      <td>2018-03-30</td>\n",
       "      <td>23:58:54</td>\n",
       "      <td>read</td>\n",
       "      <td>country_6</td>\n",
       "      <td>2458361280</td>\n",
       "      <td>AdWords</td>\n",
       "      <td>Asia</td>\n",
       "    </tr>\n",
       "    <tr>\n",
       "      <th>581738</th>\n",
       "      <td>2018-03-30</td>\n",
       "      <td>23:59:13</td>\n",
       "      <td>read</td>\n",
       "      <td>country_8</td>\n",
       "      <td>2458361281</td>\n",
       "      <td>AdWords</td>\n",
       "      <td>Europe</td>\n",
       "    </tr>\n",
       "    <tr>\n",
       "      <th>581742</th>\n",
       "      <td>2018-03-30</td>\n",
       "      <td>23:59:40</td>\n",
       "      <td>read</td>\n",
       "      <td>country_5</td>\n",
       "      <td>2458361282</td>\n",
       "      <td>AdWords</td>\n",
       "      <td>Europe</td>\n",
       "    </tr>\n",
       "    <tr>\n",
       "      <th>581744</th>\n",
       "      <td>2018-03-30</td>\n",
       "      <td>23:59:56</td>\n",
       "      <td>read</td>\n",
       "      <td>country_5</td>\n",
       "      <td>2458361283</td>\n",
       "      <td>Reddit</td>\n",
       "      <td>Asia</td>\n",
       "    </tr>\n",
       "  </tbody>\n",
       "</table>\n",
       "<p>210023 rows × 7 columns</p>\n",
       "</div>"
      ],
      "text/plain": [
       "              date      time event_type    country     user_id   source  \\\n",
       "0       2018-01-01  00:01:01       read  country_7  2458151261      SEO   \n",
       "1       2018-01-01  00:03:20       read  country_7  2458151262      SEO   \n",
       "2       2018-01-01  00:04:01       read  country_7  2458151263  AdWords   \n",
       "3       2018-01-01  00:04:02       read  country_7  2458151264  AdWords   \n",
       "4       2018-01-01  00:05:03       read  country_8  2458151265   Reddit   \n",
       "...            ...       ...        ...        ...         ...      ...   \n",
       "581731  2018-03-30  23:57:06       read  country_1  2458361279      SEO   \n",
       "581735  2018-03-30  23:58:54       read  country_6  2458361280  AdWords   \n",
       "581738  2018-03-30  23:59:13       read  country_8  2458361281  AdWords   \n",
       "581742  2018-03-30  23:59:40       read  country_5  2458361282  AdWords   \n",
       "581744  2018-03-30  23:59:56       read  country_5  2458361283   Reddit   \n",
       "\n",
       "                topic  \n",
       "0       North America  \n",
       "1       South America  \n",
       "2              Africa  \n",
       "3              Europe  \n",
       "4       North America  \n",
       "...               ...  \n",
       "581731  North America  \n",
       "581735           Asia  \n",
       "581738         Europe  \n",
       "581742         Europe  \n",
       "581744           Asia  \n",
       "\n",
       "[210023 rows x 7 columns]"
      ]
     },
     "execution_count": 3,
     "metadata": {},
     "output_type": "execute_result"
    }
   ],
   "source": [
    "## Funnel1: First time readers\n",
    "\n",
    "first = read.loc[read.event_type == \"read\"]\n",
    "first = first.loc[(first.source == \"SEO\") | (first.source == \"AdWords\") | (first.source == \"Reddit\")]\n",
    "first"
   ]
  },
  {
   "cell_type": "code",
   "execution_count": 4,
   "id": "478bb39f",
   "metadata": {
    "scrolled": true
   },
   "outputs": [
    {
     "data": {
      "text/plain": [
       "<matplotlib.axes._subplots.AxesSubplot at 0x7fda6e293908>"
      ]
     },
     "execution_count": 4,
     "metadata": {},
     "output_type": "execute_result"
    },
    {
     "data": {
      "image/png": "[encoded data removed]",
      "text/plain": [
       "<matplotlib.figure.Figure at 0x7fda6e2d9e80>"
      ]
     },
     "metadata": {
      "needs_background": "light"
     },
     "output_type": "display_data"
    }
   ],
   "source": [
    "##First time readers by countries and sources\n",
    "\n",
    "first.groupby([\"country\", \"source\"]).count()[[\"event_type\"]].unstack().plot(kind=\"bar\",legend=False, stacked=True, title=\"First time readers by countries and sources\",figsize=(10,7))"
   ]
  },
  {
   "cell_type": "code",
   "execution_count": 5,
   "id": "3042b331",
   "metadata": {},
   "outputs": [
    {
     "data": {
      "text/plain": [
       "<matplotlib.axes._subplots.AxesSubplot at 0x7fda6df3bcf8>"
      ]
     },
     "execution_count": 5,
     "metadata": {},
     "output_type": "execute_result"
    },
    {
     "data": {
      "image/png": "[encoded data removed]",
      "text/plain": [
       "<matplotlib.figure.Figure at 0x7fda712712e8>"
      ]
     },
     "metadata": {},
     "output_type": "display_data"
    }
   ],
   "source": [
    "## 82,8% of the first time readers are coming from 4 countries(Country_7,Country_2,Country_5, Country_6)\n",
    "\n",
    "first.country.value_counts().plot(kind=\"pie\", labels=first[\"country\"], autopct='%1.1f%%', title=\"First time readers by countries\")"
   ]
  },
  {
   "cell_type": "code",
   "execution_count": 6,
   "id": "4d4cb5a5",
   "metadata": {},
   "outputs": [
    {
     "data": {
      "text/plain": [
       "country_7    51791\n",
       "country_2    50675\n",
       "country_5    40349\n",
       "country_6    31156\n",
       "country_8    15483\n",
       "country_4    12751\n",
       "country_1     5076\n",
       "country_3     2742\n",
       "Name: country, dtype: int64"
      ]
     },
     "execution_count": 6,
     "metadata": {},
     "output_type": "execute_result"
    }
   ],
   "source": [
    "first.country.value_counts()"
   ]
  },
  {
   "cell_type": "code",
   "execution_count": 7,
   "id": "7380a2f3",
   "metadata": {},
   "outputs": [
    {
     "data": {
      "text/plain": [
       "Reddit     105216\n",
       "AdWords     63065\n",
       "SEO         41742\n",
       "Name: source, dtype: int64"
      ]
     },
     "execution_count": 7,
     "metadata": {},
     "output_type": "execute_result"
    }
   ],
   "source": [
    "## Frist time readers by sources \n",
    "first.source.value_counts()"
   ]
  },
  {
   "cell_type": "code",
   "execution_count": 8,
   "id": "5c10e2b7",
   "metadata": {},
   "outputs": [
    {
     "data": {
      "text/plain": [
       "<matplotlib.axes._subplots.AxesSubplot at 0x7fda6deb49b0>"
      ]
     },
     "execution_count": 8,
     "metadata": {},
     "output_type": "execute_result"
    },
    {
     "data": {
      "image/png": "[encoded data removed]",
      "text/plain": [
       "<matplotlib.figure.Figure at 0x7fda6deb42b0>"
      ]
     },
     "metadata": {},
     "output_type": "display_data"
    }
   ],
   "source": [
    "## Frist time readers by sources (Dilan's marketing budget percentage: AdWords 50%, Reddit 25%, SEO 25%)\n",
    "\n",
    "first.source.value_counts().plot(kind=\"pie\", autopct='%1.1f%%', \n",
    " startangle=45, title=\"First time reader by sources\", explode=(0,0,0.1))"
   ]
  },
  {
   "cell_type": "code",
   "execution_count": 9,
   "id": "9833bfb3",
   "metadata": {},
   "outputs": [
    {
     "data": {
      "text/plain": [
       "<matplotlib.axes._subplots.AxesSubplot at 0x7fda6e1d9390>"
      ]
     },
     "execution_count": 9,
     "metadata": {},
     "output_type": "execute_result"
    },
    {
     "data": {
      "image/png": "[encoded data removed]",
      "text/plain": [
       "<matplotlib.figure.Figure at 0x7fda6deba668>"
      ]
     },
     "metadata": {
      "needs_background": "light"
     },
     "output_type": "display_data"
    }
   ],
   "source": [
    "## Frist time reader by topics\n",
    "\n",
    "first.groupby(\"topic\").count()[[\"event_type\"]].plot(kind=\"barh\", legend=False)"
   ]
  },
  {
   "cell_type": "code",
   "execution_count": 10,
   "id": "53089326",
   "metadata": {},
   "outputs": [
    {
     "data": {
      "text/plain": [
       "<matplotlib.collections.PathCollection at 0x7fda6d14cc18>"
      ]
     },
     "execution_count": 10,
     "metadata": {},
     "output_type": "execute_result"
    },
    {
     "data": {
      "image/png": "[encoded data removed]",
      "text/plain": [
       "<matplotlib.figure.Figure at 0x7fda6de4dc88>"
      ]
     },
     "metadata": {
      "needs_background": "light"
     },
     "output_type": "display_data"
    }
   ],
   "source": [
    "## Number of first time reader by month\n",
    "\n",
    "jan_first = first.loc[first.date < \"2018-01-31\"].groupby(\"date\", as_index=False).count()[[\"event_type\"]]\n",
    "feb_first = first.loc[(first.date > \"2018-02-01\") & (first.date < \"2018-02-28\")].groupby(\"date\", as_index=False).count()[[\"event_type\"]]\n",
    "march_first = first.loc[(first.date > \"2018-03-01\") & (first.date < \"2018-03-30\")].groupby(\"date\",as_index=False).count()[[\"event_type\"]]\n",
    "\n",
    "plt.scatter(x = jan_first.index, y=jan_first.event_type)\n",
    "plt.scatter(x = feb_first.index, y=feb_first.event_type)\n",
    "plt.scatter(x = march_first.index, y=march_first.event_type)"
   ]
  },
  {
   "cell_type": "code",
   "execution_count": 11,
   "id": "21baec97",
   "metadata": {},
   "outputs": [
    {
     "data": {
      "text/html": [
       "<div>\n",
       "<style scoped>\n",
       "    .dataframe tbody tr th:only-of-type {\n",
       "        vertical-align: middle;\n",
       "    }\n",
       "\n",
       "    .dataframe tbody tr th {\n",
       "        vertical-align: top;\n",
       "    }\n",
       "\n",
       "    .dataframe thead th {\n",
       "        text-align: right;\n",
       "    }\n",
       "</style>\n",
       "<table border=\"1\" class=\"dataframe\">\n",
       "  <thead>\n",
       "    <tr style=\"text-align: right;\">\n",
       "      <th></th>\n",
       "      <th>date</th>\n",
       "      <th>time</th>\n",
       "      <th>event_type</th>\n",
       "      <th>country</th>\n",
       "      <th>user_id</th>\n",
       "      <th>topic</th>\n",
       "    </tr>\n",
       "  </thead>\n",
       "  <tbody>\n",
       "    <tr>\n",
       "      <th>0</th>\n",
       "      <td>2018-01-01</td>\n",
       "      <td>02:20:18</td>\n",
       "      <td>read</td>\n",
       "      <td>country_5</td>\n",
       "      <td>2458151287</td>\n",
       "      <td>North America</td>\n",
       "    </tr>\n",
       "    <tr>\n",
       "      <th>1</th>\n",
       "      <td>2018-01-01</td>\n",
       "      <td>02:53:39</td>\n",
       "      <td>read</td>\n",
       "      <td>country_4</td>\n",
       "      <td>2458151279</td>\n",
       "      <td>Asia</td>\n",
       "    </tr>\n",
       "    <tr>\n",
       "      <th>2</th>\n",
       "      <td>2018-01-01</td>\n",
       "      <td>03:34:22</td>\n",
       "      <td>read</td>\n",
       "      <td>country_4</td>\n",
       "      <td>2458151525</td>\n",
       "      <td>Africa</td>\n",
       "    </tr>\n",
       "    <tr>\n",
       "      <th>3</th>\n",
       "      <td>2018-01-01</td>\n",
       "      <td>03:40:42</td>\n",
       "      <td>read</td>\n",
       "      <td>country_5</td>\n",
       "      <td>2458151315</td>\n",
       "      <td>South America</td>\n",
       "    </tr>\n",
       "    <tr>\n",
       "      <th>4</th>\n",
       "      <td>2018-01-01</td>\n",
       "      <td>03:51:23</td>\n",
       "      <td>read</td>\n",
       "      <td>country_5</td>\n",
       "      <td>2458151302</td>\n",
       "      <td>South America</td>\n",
       "    </tr>\n",
       "    <tr>\n",
       "      <th>...</th>\n",
       "      <td>...</td>\n",
       "      <td>...</td>\n",
       "      <td>...</td>\n",
       "      <td>...</td>\n",
       "      <td>...</td>\n",
       "      <td>...</td>\n",
       "    </tr>\n",
       "    <tr>\n",
       "      <th>66226</th>\n",
       "      <td>2018-03-31</td>\n",
       "      <td>04:34:32</td>\n",
       "      <td>read</td>\n",
       "      <td>country_4</td>\n",
       "      <td>2458361163</td>\n",
       "      <td>Africa</td>\n",
       "    </tr>\n",
       "    <tr>\n",
       "      <th>66227</th>\n",
       "      <td>2018-03-31</td>\n",
       "      <td>05:02:06</td>\n",
       "      <td>read</td>\n",
       "      <td>country_6</td>\n",
       "      <td>2458361177</td>\n",
       "      <td>Asia</td>\n",
       "    </tr>\n",
       "    <tr>\n",
       "      <th>66228</th>\n",
       "      <td>2018-03-31</td>\n",
       "      <td>05:02:14</td>\n",
       "      <td>read</td>\n",
       "      <td>country_7</td>\n",
       "      <td>2458361244</td>\n",
       "      <td>North America</td>\n",
       "    </tr>\n",
       "    <tr>\n",
       "      <th>66229</th>\n",
       "      <td>2018-03-31</td>\n",
       "      <td>05:03:53</td>\n",
       "      <td>read</td>\n",
       "      <td>country_7</td>\n",
       "      <td>2458361267</td>\n",
       "      <td>Europe</td>\n",
       "    </tr>\n",
       "    <tr>\n",
       "      <th>66230</th>\n",
       "      <td>2018-03-31</td>\n",
       "      <td>05:04:50</td>\n",
       "      <td>read</td>\n",
       "      <td>country_4</td>\n",
       "      <td>2458361208</td>\n",
       "      <td>Africa</td>\n",
       "    </tr>\n",
       "  </tbody>\n",
       "</table>\n",
       "<p>66231 rows × 6 columns</p>\n",
       "</div>"
      ],
      "text/plain": [
       "             date      time event_type    country     user_id          topic\n",
       "0      2018-01-01  02:20:18       read  country_5  2458151287  North America\n",
       "1      2018-01-01  02:53:39       read  country_4  2458151279           Asia\n",
       "2      2018-01-01  03:34:22       read  country_4  2458151525         Africa\n",
       "3      2018-01-01  03:40:42       read  country_5  2458151315  South America\n",
       "4      2018-01-01  03:51:23       read  country_5  2458151302  South America\n",
       "...           ...       ...        ...        ...         ...            ...\n",
       "66226  2018-03-31  04:34:32       read  country_4  2458361163         Africa\n",
       "66227  2018-03-31  05:02:06       read  country_6  2458361177           Asia\n",
       "66228  2018-03-31  05:02:14       read  country_7  2458361244  North America\n",
       "66229  2018-03-31  05:03:53       read  country_7  2458361267         Europe\n",
       "66230  2018-03-31  05:04:50       read  country_4  2458361208         Africa\n",
       "\n",
       "[66231 rows x 6 columns]"
      ]
     },
     "execution_count": 11,
     "metadata": {},
     "output_type": "execute_result"
    }
   ],
   "source": [
    "## Creating \"Returning readers\" group \n",
    "\n",
    "readers = read.loc[read.event_type == \"read\"]\n",
    "\n",
    "readers = readers.loc[(readers.source == \"Africa\") | (readers.source == \"Europe\") | (readers.source == \"South America\") |\\\n",
    "                      (readers.source == \"North America\") |\\\n",
    "                      (readers.source == \"Australia\") |  (readers.source == \"Asia\")].reset_index(drop=True)\n",
    "readers.drop(readers.columns[[6]], 1, inplace=True)\n",
    "\n",
    "readers = readers.rename(columns={\"source\":\"topic\"})\n",
    "\n",
    "## Drop user_id duplicates to have the real number of returning readers\n",
    "readers = readers.drop_duplicates(subset=\"user_id\", keep=\"first\").reset_index(drop=True)\n",
    "\n",
    "## Funnel2: Returning readers\n",
    "readers\n"
   ]
  },
  {
   "cell_type": "code",
   "execution_count": 12,
   "id": "1f7658ba",
   "metadata": {},
   "outputs": [
    {
     "data": {
      "text/plain": [
       "<matplotlib.axes._subplots.AxesSubplot at 0x7fda6d0b5978>"
      ]
     },
     "execution_count": 12,
     "metadata": {},
     "output_type": "execute_result"
    },
    {
     "data": {
      "image/png": "[encoded data removed]",
      "text/plain": [
       "<matplotlib.figure.Figure at 0x7fda6d127da0>"
      ]
     },
     "metadata": {
      "needs_background": "light"
     },
     "output_type": "display_data"
    }
   ],
   "source": [
    "## Returning readers by countries - \n",
    "plt.subplot(121)\n",
    "readers.country.value_counts().plot(kind=\"bar\", figsize=(10,5), title=\"Returning readers by country\")\n",
    "\n",
    "plt.subplot(122)\n",
    "readers.country.value_counts().plot(kind=\"pie\", labels=readers[\"country\"], autopct='%1.1f%%', title=\"Returning readers by countries\")"
   ]
  },
  {
   "cell_type": "code",
   "execution_count": 13,
   "id": "28b9dd1a",
   "metadata": {},
   "outputs": [
    {
     "data": {
      "text/plain": [
       "array([<matplotlib.axes._subplots.AxesSubplot object at 0x7fda6d0ca3c8>],\n",
       "      dtype=object)"
      ]
     },
     "execution_count": 13,
     "metadata": {},
     "output_type": "execute_result"
    },
    {
     "data": {
      "image/png": "[encoded data removed]",
      "text/plain": [
       "<matplotlib.figure.Figure at 0x7fda6d1bdbe0>"
      ]
     },
     "metadata": {},
     "output_type": "display_data"
    }
   ],
   "source": [
    "## Returning readers by sources\n",
    "\n",
    "first[\"readers\"] = first.user_id.isin(readers.user_id).apply(lambda x: 1 if x == True else 0).fillna(0)\n",
    "\n",
    "first.loc[first[\"readers\"] == 1].groupby(\"source\").sum()[[\"readers\"]].plot(kind=\"pie\", legend=False, subplots=True, autopct='%1.1f%%', explode=(0.1,0,0), title=\"Returning readers by sources\" )"
   ]
  },
  {
   "cell_type": "code",
   "execution_count": 14,
   "id": "c76767ca",
   "metadata": {},
   "outputs": [
    {
     "data": {
      "text/plain": [
       "<matplotlib.axes._subplots.AxesSubplot at 0x7fda6cfe68d0>"
      ]
     },
     "execution_count": 14,
     "metadata": {},
     "output_type": "execute_result"
    },
    {
     "data": {
      "image/png": "[encoded data removed]",
      "text/plain": [
       "<matplotlib.figure.Figure at 0x7fda6d072160>"
      ]
     },
     "metadata": {
      "needs_background": "light"
     },
     "output_type": "display_data"
    }
   ],
   "source": [
    "## First time readers & returning readers by countries\n",
    "\n",
    "plt.subplot(121)\n",
    "first.country.value_counts().plot(kind=\"bar\", figsize=(10,5), title=\"First time readers by country\")\n",
    "\n",
    "plt.subplot(122)\n",
    "readers.country.value_counts().plot(kind=\"bar\", figsize=(10,5), title=\"Returning readers by country\", color=\"r\")"
   ]
  },
  {
   "cell_type": "code",
   "execution_count": 15,
   "id": "583b5e2f",
   "metadata": {},
   "outputs": [
    {
     "data": {
      "text/plain": [
       "<matplotlib.axes._subplots.AxesSubplot at 0x7fda6cfbcac8>"
      ]
     },
     "execution_count": 15,
     "metadata": {},
     "output_type": "execute_result"
    },
    {
     "data": {
      "image/png": "[encoded data removed]",
      "text/plain": [
       "<matplotlib.figure.Figure at 0x7fda6cfa2fd0>"
      ]
     },
     "metadata": {
      "needs_background": "light"
     },
     "output_type": "display_data"
    }
   ],
   "source": [
    "##Returnig readers by countries and topics\n",
    "\n",
    "readers.groupby([\"country\", \"topic\"]).count()[[\"event_type\"]].unstack().plot(kind=\"bar\", figsize=(15,8), legend=False, title=\"Returning readers selected by countries and topics\")"
   ]
  },
  {
   "cell_type": "code",
   "execution_count": 16,
   "id": "1f9afdc8",
   "metadata": {},
   "outputs": [
    {
     "data": {
      "text/plain": [
       "<matplotlib.collections.PathCollection at 0x7fda6ce1fac8>"
      ]
     },
     "execution_count": 16,
     "metadata": {},
     "output_type": "execute_result"
    },
    {
     "data": {
      "image/png": "[encoded data removed]",
      "text/plain": [
       "<matplotlib.figure.Figure at 0x7fda6cead4e0>"
      ]
     },
     "metadata": {
      "needs_background": "light"
     },
     "output_type": "display_data"
    }
   ],
   "source": [
    "jan_readers = readers.loc[readers.date < \"2018-01-31\"].groupby(\"date\", as_index=False).count()[[\"event_type\"]]\n",
    "feb_readers = readers.loc[(readers.date > \"2018-02-01\") & (readers.date < \"2018-02-28\")].groupby(\"date\", as_index=False).count()[[\"event_type\"]]\n",
    "march_readers = readers.loc[(readers.date > \"2018-03-01\") & (readers.date < \"2018-03-30\")].groupby(\"date\",as_index=False).count()[[\"event_type\"]]\n",
    "\n",
    "plt.scatter(x = jan_readers.index, y=jan_readers.event_type)\n",
    "plt.scatter(x = feb_readers.index, y=feb_readers.event_type)\n",
    "plt.scatter(x = march_readers.index, y=march_readers.event_type)"
   ]
  },
  {
   "cell_type": "code",
   "execution_count": 17,
   "id": "afd7bf43",
   "metadata": {},
   "outputs": [
    {
     "data": {
      "text/html": [
       "<div>\n",
       "<style scoped>\n",
       "    .dataframe tbody tr th:only-of-type {\n",
       "        vertical-align: middle;\n",
       "    }\n",
       "\n",
       "    .dataframe tbody tr th {\n",
       "        vertical-align: top;\n",
       "    }\n",
       "\n",
       "    .dataframe thead th {\n",
       "        text-align: right;\n",
       "    }\n",
       "</style>\n",
       "<table border=\"1\" class=\"dataframe\">\n",
       "  <thead>\n",
       "    <tr style=\"text-align: right;\">\n",
       "      <th></th>\n",
       "      <th>date</th>\n",
       "      <th>time</th>\n",
       "      <th>event_type</th>\n",
       "      <th>user_id</th>\n",
       "    </tr>\n",
       "  </thead>\n",
       "  <tbody>\n",
       "    <tr>\n",
       "      <th>0</th>\n",
       "      <td>2018-01-01</td>\n",
       "      <td>00:07:41</td>\n",
       "      <td>subscribe</td>\n",
       "      <td>2458151268</td>\n",
       "    </tr>\n",
       "    <tr>\n",
       "      <th>1</th>\n",
       "      <td>2018-01-01</td>\n",
       "      <td>00:07:44</td>\n",
       "      <td>subscribe</td>\n",
       "      <td>2458151267</td>\n",
       "    </tr>\n",
       "    <tr>\n",
       "      <th>2</th>\n",
       "      <td>2018-01-01</td>\n",
       "      <td>00:40:55</td>\n",
       "      <td>subscribe</td>\n",
       "      <td>2458151309</td>\n",
       "    </tr>\n",
       "    <tr>\n",
       "      <th>3</th>\n",
       "      <td>2018-01-01</td>\n",
       "      <td>01:26:26</td>\n",
       "      <td>subscribe</td>\n",
       "      <td>2458151358</td>\n",
       "    </tr>\n",
       "    <tr>\n",
       "      <th>4</th>\n",
       "      <td>2018-01-01</td>\n",
       "      <td>01:30:39</td>\n",
       "      <td>subscribe</td>\n",
       "      <td>2458151361</td>\n",
       "    </tr>\n",
       "    <tr>\n",
       "      <th>...</th>\n",
       "      <td>...</td>\n",
       "      <td>...</td>\n",
       "      <td>...</td>\n",
       "      <td>...</td>\n",
       "    </tr>\n",
       "    <tr>\n",
       "      <th>7613</th>\n",
       "      <td>2018-03-30</td>\n",
       "      <td>22:58:30</td>\n",
       "      <td>subscribe</td>\n",
       "      <td>2458272661</td>\n",
       "    </tr>\n",
       "    <tr>\n",
       "      <th>7614</th>\n",
       "      <td>2018-03-30</td>\n",
       "      <td>23:05:11</td>\n",
       "      <td>subscribe</td>\n",
       "      <td>2458258357</td>\n",
       "    </tr>\n",
       "    <tr>\n",
       "      <th>7615</th>\n",
       "      <td>2018-03-30</td>\n",
       "      <td>23:09:25</td>\n",
       "      <td>subscribe</td>\n",
       "      <td>2458338958</td>\n",
       "    </tr>\n",
       "    <tr>\n",
       "      <th>7616</th>\n",
       "      <td>2018-03-30</td>\n",
       "      <td>23:27:52</td>\n",
       "      <td>subscribe</td>\n",
       "      <td>2458339595</td>\n",
       "    </tr>\n",
       "    <tr>\n",
       "      <th>7617</th>\n",
       "      <td>2018-03-30</td>\n",
       "      <td>23:48:48</td>\n",
       "      <td>subscribe</td>\n",
       "      <td>2458173588</td>\n",
       "    </tr>\n",
       "  </tbody>\n",
       "</table>\n",
       "<p>7618 rows × 4 columns</p>\n",
       "</div>"
      ],
      "text/plain": [
       "            date      time event_type     user_id\n",
       "0     2018-01-01  00:07:41  subscribe  2458151268\n",
       "1     2018-01-01  00:07:44  subscribe  2458151267\n",
       "2     2018-01-01  00:40:55  subscribe  2458151309\n",
       "3     2018-01-01  01:26:26  subscribe  2458151358\n",
       "4     2018-01-01  01:30:39  subscribe  2458151361\n",
       "...          ...       ...        ...         ...\n",
       "7613  2018-03-30  22:58:30  subscribe  2458272661\n",
       "7614  2018-03-30  23:05:11  subscribe  2458258357\n",
       "7615  2018-03-30  23:09:25  subscribe  2458338958\n",
       "7616  2018-03-30  23:27:52  subscribe  2458339595\n",
       "7617  2018-03-30  23:48:48  subscribe  2458173588\n",
       "\n",
       "[7618 rows x 4 columns]"
      ]
     },
     "execution_count": 17,
     "metadata": {},
     "output_type": "execute_result"
    }
   ],
   "source": [
    "##Creating the Subscribers group\n",
    "\n",
    "##Total number of subscribers: 7618\n",
    "sub"
   ]
  },
  {
   "cell_type": "code",
   "execution_count": 18,
   "id": "c9845989",
   "metadata": {},
   "outputs": [
    {
     "data": {
      "text/plain": [
       "<matplotlib.collections.PathCollection at 0x7fda6cd7b828>"
      ]
     },
     "execution_count": 18,
     "metadata": {},
     "output_type": "execute_result"
    },
    {
     "data": {
      "image/png": "[encoded data removed]",
      "text/plain": [
       "<matplotlib.figure.Figure at 0x7fda6cdcabe0>"
      ]
     },
     "metadata": {
      "needs_background": "light"
     },
     "output_type": "display_data"
    }
   ],
   "source": [
    "jan_sub = sub.loc[sub.date < \"2018-01-31\"].groupby(\"date\", as_index=False).count()[[\"event_type\"]]\n",
    "feb_sub = sub.loc[(sub.date > \"2018-02-01\") & (sub.date < \"2018-02-28\")].groupby(\"date\", as_index=False).count()[[\"event_type\"]]\n",
    "march_sub = sub.loc[(sub.date > \"2018-03-01\") & (sub.date < \"2018-03-30\")].groupby(\"date\",as_index=False).count()[[\"event_type\"]]\n",
    "\n",
    "plt.scatter(x = jan_sub.index, y=jan_sub.event_type)\n",
    "plt.scatter(x = feb_sub.index, y=feb_sub.event_type)\n",
    "plt.scatter(x = march_sub.index, y=march_sub.event_type)"
   ]
  },
  {
   "cell_type": "code",
   "execution_count": 19,
   "id": "90241f91",
   "metadata": {},
   "outputs": [
    {
     "ename": "KeyError",
     "evalue": "\"['subscriber'] not in index\"",
     "output_type": "error",
     "traceback": [
      "\u001b[0;31m---------------------------------------------------------------------------\u001b[0m",
      "\u001b[0;31mKeyError\u001b[0m                                  Traceback (most recent call last)",
      "\u001b[0;32m<ipython-input-19-09289d44ff66>\u001b[0m in \u001b[0;36m<module>\u001b[0;34m\u001b[0m\n\u001b[0;32m----> 1\u001b[0;31m \u001b[0mfirst\u001b[0m\u001b[0;34m[\u001b[0m\u001b[0;34m[\u001b[0m\u001b[0;34m\"subscriber\"\u001b[0m\u001b[0;34m,\u001b[0m\u001b[0;34m\"readers\"\u001b[0m\u001b[0;34m]\u001b[0m\u001b[0;34m]\u001b[0m\u001b[0;34m.\u001b[0m\u001b[0mcorr\u001b[0m\u001b[0;34m(\u001b[0m\u001b[0;34m)\u001b[0m\u001b[0;34m\u001b[0m\u001b[0;34m\u001b[0m\u001b[0m\n\u001b[0m",
      "\u001b[0;32m/usr/local/lib/python3.6/dist-packages/pandas/core/frame.py\u001b[0m in \u001b[0;36m__getitem__\u001b[0;34m(self, key)\u001b[0m\n\u001b[1;32m   2910\u001b[0m             \u001b[0;32mif\u001b[0m \u001b[0mis_iterator\u001b[0m\u001b[0;34m(\u001b[0m\u001b[0mkey\u001b[0m\u001b[0;34m)\u001b[0m\u001b[0;34m:\u001b[0m\u001b[0;34m\u001b[0m\u001b[0;34m\u001b[0m\u001b[0m\n\u001b[1;32m   2911\u001b[0m                 \u001b[0mkey\u001b[0m \u001b[0;34m=\u001b[0m \u001b[0mlist\u001b[0m\u001b[0;34m(\u001b[0m\u001b[0mkey\u001b[0m\u001b[0;34m)\u001b[0m\u001b[0;34m\u001b[0m\u001b[0;34m\u001b[0m\u001b[0m\n\u001b[0;32m-> 2912\u001b[0;31m             \u001b[0mindexer\u001b[0m \u001b[0;34m=\u001b[0m \u001b[0mself\u001b[0m\u001b[0;34m.\u001b[0m\u001b[0mloc\u001b[0m\u001b[0;34m.\u001b[0m\u001b[0m_get_listlike_indexer\u001b[0m\u001b[0;34m(\u001b[0m\u001b[0mkey\u001b[0m\u001b[0;34m,\u001b[0m \u001b[0maxis\u001b[0m\u001b[0;34m=\u001b[0m\u001b[0;36m1\u001b[0m\u001b[0;34m,\u001b[0m \u001b[0mraise_missing\u001b[0m\u001b[0;34m=\u001b[0m\u001b[0;32mTrue\u001b[0m\u001b[0;34m)\u001b[0m\u001b[0;34m[\u001b[0m\u001b[0;36m1\u001b[0m\u001b[0;34m]\u001b[0m\u001b[0;34m\u001b[0m\u001b[0;34m\u001b[0m\u001b[0m\n\u001b[0m\u001b[1;32m   2913\u001b[0m \u001b[0;34m\u001b[0m\u001b[0m\n\u001b[1;32m   2914\u001b[0m         \u001b[0;31m# take() does not accept boolean indexers\u001b[0m\u001b[0;34m\u001b[0m\u001b[0;34m\u001b[0m\u001b[0;34m\u001b[0m\u001b[0m\n",
      "\u001b[0;32m/usr/local/lib/python3.6/dist-packages/pandas/core/indexing.py\u001b[0m in \u001b[0;36m_get_listlike_indexer\u001b[0;34m(self, key, axis, raise_missing)\u001b[0m\n\u001b[1;32m   1252\u001b[0m             \u001b[0mkeyarr\u001b[0m\u001b[0;34m,\u001b[0m \u001b[0mindexer\u001b[0m\u001b[0;34m,\u001b[0m \u001b[0mnew_indexer\u001b[0m \u001b[0;34m=\u001b[0m \u001b[0max\u001b[0m\u001b[0;34m.\u001b[0m\u001b[0m_reindex_non_unique\u001b[0m\u001b[0;34m(\u001b[0m\u001b[0mkeyarr\u001b[0m\u001b[0;34m)\u001b[0m\u001b[0;34m\u001b[0m\u001b[0;34m\u001b[0m\u001b[0m\n\u001b[1;32m   1253\u001b[0m \u001b[0;34m\u001b[0m\u001b[0m\n\u001b[0;32m-> 1254\u001b[0;31m         \u001b[0mself\u001b[0m\u001b[0;34m.\u001b[0m\u001b[0m_validate_read_indexer\u001b[0m\u001b[0;34m(\u001b[0m\u001b[0mkeyarr\u001b[0m\u001b[0;34m,\u001b[0m \u001b[0mindexer\u001b[0m\u001b[0;34m,\u001b[0m \u001b[0maxis\u001b[0m\u001b[0;34m,\u001b[0m \u001b[0mraise_missing\u001b[0m\u001b[0;34m=\u001b[0m\u001b[0mraise_missing\u001b[0m\u001b[0;34m)\u001b[0m\u001b[0;34m\u001b[0m\u001b[0;34m\u001b[0m\u001b[0m\n\u001b[0m\u001b[1;32m   1255\u001b[0m         \u001b[0;32mreturn\u001b[0m \u001b[0mkeyarr\u001b[0m\u001b[0;34m,\u001b[0m \u001b[0mindexer\u001b[0m\u001b[0;34m\u001b[0m\u001b[0;34m\u001b[0m\u001b[0m\n\u001b[1;32m   1256\u001b[0m \u001b[0;34m\u001b[0m\u001b[0m\n",
      "\u001b[0;32m/usr/local/lib/python3.6/dist-packages/pandas/core/indexing.py\u001b[0m in \u001b[0;36m_validate_read_indexer\u001b[0;34m(self, key, indexer, axis, raise_missing)\u001b[0m\n\u001b[1;32m   1302\u001b[0m             \u001b[0;32mif\u001b[0m \u001b[0mraise_missing\u001b[0m\u001b[0;34m:\u001b[0m\u001b[0;34m\u001b[0m\u001b[0;34m\u001b[0m\u001b[0m\n\u001b[1;32m   1303\u001b[0m                 \u001b[0mnot_found\u001b[0m \u001b[0;34m=\u001b[0m \u001b[0mlist\u001b[0m\u001b[0;34m(\u001b[0m\u001b[0mset\u001b[0m\u001b[0;34m(\u001b[0m\u001b[0mkey\u001b[0m\u001b[0;34m)\u001b[0m \u001b[0;34m-\u001b[0m \u001b[0mset\u001b[0m\u001b[0;34m(\u001b[0m\u001b[0max\u001b[0m\u001b[0;34m)\u001b[0m\u001b[0;34m)\u001b[0m\u001b[0;34m\u001b[0m\u001b[0;34m\u001b[0m\u001b[0m\n\u001b[0;32m-> 1304\u001b[0;31m                 \u001b[0;32mraise\u001b[0m \u001b[0mKeyError\u001b[0m\u001b[0;34m(\u001b[0m\u001b[0;34mf\"{not_found} not in index\"\u001b[0m\u001b[0;34m)\u001b[0m\u001b[0;34m\u001b[0m\u001b[0;34m\u001b[0m\u001b[0m\n\u001b[0m\u001b[1;32m   1305\u001b[0m \u001b[0;34m\u001b[0m\u001b[0m\n\u001b[1;32m   1306\u001b[0m             \u001b[0;31m# we skip the warning on Categorical\u001b[0m\u001b[0;34m\u001b[0m\u001b[0;34m\u001b[0m\u001b[0;34m\u001b[0m\u001b[0m\n",
      "\u001b[0;31mKeyError\u001b[0m: \"['subscriber'] not in index\""
     ]
    }
   ],
   "source": [
    "first[[\"subscriber\",\"readers\"]].corr()"
   ]
  },
  {
   "cell_type": "code",
   "execution_count": 20,
   "id": "2a033e5d",
   "metadata": {},
   "outputs": [
    {
     "data": {
      "text/html": [
       "<div>\n",
       "<style scoped>\n",
       "    .dataframe tbody tr th:only-of-type {\n",
       "        vertical-align: middle;\n",
       "    }\n",
       "\n",
       "    .dataframe tbody tr th {\n",
       "        vertical-align: top;\n",
       "    }\n",
       "\n",
       "    .dataframe thead th {\n",
       "        text-align: right;\n",
       "    }\n",
       "</style>\n",
       "<table border=\"1\" class=\"dataframe\">\n",
       "  <thead>\n",
       "    <tr style=\"text-align: right;\">\n",
       "      <th></th>\n",
       "      <th>date</th>\n",
       "      <th>time</th>\n",
       "      <th>event_type</th>\n",
       "      <th>user_id</th>\n",
       "      <th>payment</th>\n",
       "    </tr>\n",
       "  </thead>\n",
       "  <tbody>\n",
       "    <tr>\n",
       "      <th>0</th>\n",
       "      <td>2018-01-01</td>\n",
       "      <td>04:04:59</td>\n",
       "      <td>buy</td>\n",
       "      <td>2458151555</td>\n",
       "      <td>8</td>\n",
       "    </tr>\n",
       "    <tr>\n",
       "      <th>1</th>\n",
       "      <td>2018-01-01</td>\n",
       "      <td>09:28:00</td>\n",
       "      <td>buy</td>\n",
       "      <td>2458151933</td>\n",
       "      <td>8</td>\n",
       "    </tr>\n",
       "    <tr>\n",
       "      <th>2</th>\n",
       "      <td>2018-01-01</td>\n",
       "      <td>13:23:16</td>\n",
       "      <td>buy</td>\n",
       "      <td>2458152245</td>\n",
       "      <td>8</td>\n",
       "    </tr>\n",
       "    <tr>\n",
       "      <th>3</th>\n",
       "      <td>2018-01-01</td>\n",
       "      <td>14:20:43</td>\n",
       "      <td>buy</td>\n",
       "      <td>2458152315</td>\n",
       "      <td>8</td>\n",
       "    </tr>\n",
       "    <tr>\n",
       "      <th>4</th>\n",
       "      <td>2018-01-01</td>\n",
       "      <td>16:56:04</td>\n",
       "      <td>buy</td>\n",
       "      <td>2458152371</td>\n",
       "      <td>8</td>\n",
       "    </tr>\n",
       "    <tr>\n",
       "      <th>...</th>\n",
       "      <td>...</td>\n",
       "      <td>...</td>\n",
       "      <td>...</td>\n",
       "      <td>...</td>\n",
       "      <td>...</td>\n",
       "    </tr>\n",
       "    <tr>\n",
       "      <th>8402</th>\n",
       "      <td>2018-03-30</td>\n",
       "      <td>20:22:46</td>\n",
       "      <td>buy</td>\n",
       "      <td>2458330984</td>\n",
       "      <td>80</td>\n",
       "    </tr>\n",
       "    <tr>\n",
       "      <th>8403</th>\n",
       "      <td>2018-03-30</td>\n",
       "      <td>21:33:49</td>\n",
       "      <td>buy</td>\n",
       "      <td>2458180092</td>\n",
       "      <td>8</td>\n",
       "    </tr>\n",
       "    <tr>\n",
       "      <th>8404</th>\n",
       "      <td>2018-03-30</td>\n",
       "      <td>22:52:29</td>\n",
       "      <td>buy</td>\n",
       "      <td>2458331539</td>\n",
       "      <td>80</td>\n",
       "    </tr>\n",
       "    <tr>\n",
       "      <th>8405</th>\n",
       "      <td>2018-03-30</td>\n",
       "      <td>23:11:30</td>\n",
       "      <td>buy</td>\n",
       "      <td>2458339835</td>\n",
       "      <td>80</td>\n",
       "    </tr>\n",
       "    <tr>\n",
       "      <th>8406</th>\n",
       "      <td>2018-03-30</td>\n",
       "      <td>23:56:01</td>\n",
       "      <td>buy</td>\n",
       "      <td>2458264806</td>\n",
       "      <td>8</td>\n",
       "    </tr>\n",
       "  </tbody>\n",
       "</table>\n",
       "<p>8407 rows × 5 columns</p>\n",
       "</div>"
      ],
      "text/plain": [
       "            date      time event_type     user_id  payment\n",
       "0     2018-01-01  04:04:59        buy  2458151555        8\n",
       "1     2018-01-01  09:28:00        buy  2458151933        8\n",
       "2     2018-01-01  13:23:16        buy  2458152245        8\n",
       "3     2018-01-01  14:20:43        buy  2458152315        8\n",
       "4     2018-01-01  16:56:04        buy  2458152371        8\n",
       "...          ...       ...        ...         ...      ...\n",
       "8402  2018-03-30  20:22:46        buy  2458330984       80\n",
       "8403  2018-03-30  21:33:49        buy  2458180092        8\n",
       "8404  2018-03-30  22:52:29        buy  2458331539       80\n",
       "8405  2018-03-30  23:11:30        buy  2458339835       80\n",
       "8406  2018-03-30  23:56:01        buy  2458264806        8\n",
       "\n",
       "[8407 rows x 5 columns]"
      ]
     },
     "execution_count": 20,
     "metadata": {},
     "output_type": "execute_result"
    }
   ],
   "source": [
    "##Creating the \"buy\" group\n",
    "\n",
    "buy"
   ]
  },
  {
   "cell_type": "code",
   "execution_count": 21,
   "id": "1d6a9f0f",
   "metadata": {},
   "outputs": [
    {
     "data": {
      "text/plain": [
       "<matplotlib.collections.PathCollection at 0x7fda6cc08860>"
      ]
     },
     "execution_count": 21,
     "metadata": {},
     "output_type": "execute_result"
    },
    {
     "data": {
      "image/png": "[encoded data removed]",
      "text/plain": [
       "<matplotlib.figure.Figure at 0x7fda6cc5ad68>"
      ]
     },
     "metadata": {
      "needs_background": "light"
     },
     "output_type": "display_data"
    }
   ],
   "source": [
    "jan_buy = buy.loc[buy.date < \"2018-01-31\"].groupby(\"date\", as_index=False).count()[[\"event_type\"]]\n",
    "feb_buy = buy.loc[(buy.date > \"2018-02-01\") & (buy.date < \"2018-02-28\")].groupby(\"date\", as_index=False).count()[[\"event_type\"]]\n",
    "march_buy = buy.loc[(buy.date > \"2018-03-01\") & (buy.date < \"2018-03-30\")].groupby(\"date\",as_index=False).count()[[\"event_type\"]]\n",
    "\n",
    "plt.scatter(x = jan_buy.index, y=jan_buy.event_type)\n",
    "plt.scatter(x = feb_buy.index, y=feb_buy.event_type)\n",
    "plt.scatter(x = march_buy.index, y=march_buy.event_type)"
   ]
  },
  {
   "cell_type": "code",
   "execution_count": 22,
   "id": "b325ef0a",
   "metadata": {
    "scrolled": false
   },
   "outputs": [],
   "source": [
    "## Subscribers who purchased - it shows also the real number of the purchasing users(6648)\n",
    "## buyer = buy.drop_duplicates(subset=\"user_id\") - It is also a solution to get the list of these users\n",
    "\n",
    "sub[\"sub_buyer\"] = buy[\"user_id\"].isin(sub[\"user_id\"])\n",
    "sub[\"sub_ buyer\"] = sub[\"sub_buyer\"].apply(lambda x: 1 if x == True else 0)\n",
    "buyer = sub.loc[sub[\"sub_buyer\"] == 1]\n",
    "\n",
    "real = buy.drop_duplicates(subset=\"user_id\")\n"
   ]
  },
  {
   "cell_type": "code",
   "execution_count": 23,
   "id": "b00e0eb8",
   "metadata": {},
   "outputs": [
    {
     "data": {
      "text/plain": [
       "<matplotlib.axes._subplots.AxesSubplot at 0x7fda6cc5c208>"
      ]
     },
     "execution_count": 23,
     "metadata": {},
     "output_type": "execute_result"
    },
    {
     "data": {
      "image/png": "[encoded data removed]",
      "text/plain": [
       "<matplotlib.figure.Figure at 0x7fda6cc639e8>"
      ]
     },
     "metadata": {
      "needs_background": "light"
     },
     "output_type": "display_data"
    }
   ],
   "source": [
    "sub.sub_buyer.value_counts().plot(kind=\"barh\", title=\"Subscribers who purchased courses\")"
   ]
  },
  {
   "cell_type": "code",
   "execution_count": 24,
   "id": "305669b9",
   "metadata": {},
   "outputs": [
    {
     "data": {
      "text/plain": [
       "6640"
      ]
     },
     "execution_count": 24,
     "metadata": {},
     "output_type": "execute_result"
    }
   ],
   "source": [
    "## Users who bought the 8$ course\n",
    "buy_8 = buy.loc[buy.payment == 8.0]\n",
    "\n",
    "## Putting the 8$ course purchasing users to the main df.\n",
    "first[\"course_8\"] = first.user_id.isin(buy_8.user_id).apply(lambda x: 1 if x == True else 0)\n",
    "\n",
    "## Number of users purchased 8$ course\n",
    "first.user_id.isin(buy_8.user_id).sum()"
   ]
  },
  {
   "cell_type": "code",
   "execution_count": 25,
   "id": "dad59c26",
   "metadata": {},
   "outputs": [
    {
     "data": {
      "text/plain": [
       "1767"
      ]
     },
     "execution_count": 25,
     "metadata": {},
     "output_type": "execute_result"
    }
   ],
   "source": [
    "## Users who bought the 80$ course\n",
    "buy_80 = buy.loc[buy.payment == 80.0]\n",
    "\n",
    "## Putting the 80$ course purchasing users to the main df.\n",
    "first[\"course_80\"] = first.user_id.isin(buy_80.user_id).apply(lambda x: 1 if x == True else 0)\n",
    "\n",
    "## Number of users purchased 80$ course\n",
    "first.user_id.isin(buy_80.user_id).sum()"
   ]
  },
  {
   "cell_type": "code",
   "execution_count": 26,
   "id": "3402a87c",
   "metadata": {},
   "outputs": [
    {
     "data": {
      "text/plain": [
       "0    203375\n",
       "1      6648\n",
       "Name: buyer, dtype: int64"
      ]
     },
     "execution_count": 26,
     "metadata": {},
     "output_type": "execute_result"
    }
   ],
   "source": [
    "## Putting the purchasing users to the main df.\n",
    "first[\"buyer\"] = first.user_id.isin(real.user_id)\n",
    "first[\"buyer\"] = first[\"buyer\"].fillna(0)\n",
    "first[\"buyer\"] = first[\"buyer\"].apply(lambda x: 1 if x == True else 0)\n",
    "first[\"buyer\"].value_counts()"
   ]
  },
  {
   "cell_type": "code",
   "execution_count": 27,
   "id": "5ee6ecef",
   "metadata": {},
   "outputs": [
    {
     "data": {
      "text/html": [
       "<div>\n",
       "<style scoped>\n",
       "    .dataframe tbody tr th:only-of-type {\n",
       "        vertical-align: middle;\n",
       "    }\n",
       "\n",
       "    .dataframe tbody tr th {\n",
       "        vertical-align: top;\n",
       "    }\n",
       "\n",
       "    .dataframe thead th {\n",
       "        text-align: right;\n",
       "    }\n",
       "</style>\n",
       "<table border=\"1\" class=\"dataframe\">\n",
       "  <thead>\n",
       "    <tr style=\"text-align: right;\">\n",
       "      <th></th>\n",
       "      <th>buyer</th>\n",
       "      <th>country</th>\n",
       "    </tr>\n",
       "  </thead>\n",
       "  <tbody>\n",
       "    <tr>\n",
       "      <th>0</th>\n",
       "      <td>25</td>\n",
       "      <td>country_1</td>\n",
       "    </tr>\n",
       "    <tr>\n",
       "      <th>1</th>\n",
       "      <td>1443</td>\n",
       "      <td>country_2</td>\n",
       "    </tr>\n",
       "    <tr>\n",
       "      <th>2</th>\n",
       "      <td>112</td>\n",
       "      <td>country_3</td>\n",
       "    </tr>\n",
       "    <tr>\n",
       "      <th>3</th>\n",
       "      <td>1096</td>\n",
       "      <td>country_4</td>\n",
       "    </tr>\n",
       "    <tr>\n",
       "      <th>4</th>\n",
       "      <td>1971</td>\n",
       "      <td>country_5</td>\n",
       "    </tr>\n",
       "    <tr>\n",
       "      <th>5</th>\n",
       "      <td>535</td>\n",
       "      <td>country_6</td>\n",
       "    </tr>\n",
       "    <tr>\n",
       "      <th>6</th>\n",
       "      <td>1381</td>\n",
       "      <td>country_7</td>\n",
       "    </tr>\n",
       "    <tr>\n",
       "      <th>7</th>\n",
       "      <td>85</td>\n",
       "      <td>country_8</td>\n",
       "    </tr>\n",
       "  </tbody>\n",
       "</table>\n",
       "</div>"
      ],
      "text/plain": [
       "   buyer    country\n",
       "0     25  country_1\n",
       "1   1443  country_2\n",
       "2    112  country_3\n",
       "3   1096  country_4\n",
       "4   1971  country_5\n",
       "5    535  country_6\n",
       "6   1381  country_7\n",
       "7     85  country_8"
      ]
     },
     "execution_count": 27,
     "metadata": {},
     "output_type": "execute_result"
    }
   ],
   "source": [
    "## Purchasing users by countries\n",
    "first.loc[first[\"buyer\"] == 1].groupby(\"country\", as_index=False).count()[[\"buyer\",\"country\"]]"
   ]
  },
  {
   "cell_type": "code",
   "execution_count": 28,
   "id": "60a5e50f",
   "metadata": {},
   "outputs": [
    {
     "data": {
      "text/plain": [
       "<matplotlib.axes._subplots.AxesSubplot at 0x7fda6cb830f0>"
      ]
     },
     "execution_count": 28,
     "metadata": {},
     "output_type": "execute_result"
    },
    {
     "data": {
      "image/png": "[encoded data removed]",
      "text/plain": [
       "<matplotlib.figure.Figure at 0x7fda6cb7e550>"
      ]
     },
     "metadata": {
      "needs_background": "light"
     },
     "output_type": "display_data"
    }
   ],
   "source": [
    "## Purchasing users by countries\n",
    "first.loc[first[\"buyer\"] == 1,:].groupby(\"country\").count()[[\"event_type\"]].plot(kind=\"bar\",title=\"Purchasing users by countries\")"
   ]
  },
  {
   "cell_type": "code",
   "execution_count": 29,
   "id": "ea21d59f",
   "metadata": {},
   "outputs": [],
   "source": [
    "## Putting the subscribing users to the main df.\n",
    "first[\"subscriber\"] = first.user_id.isin(sub.user_id).apply(lambda x: 1 if x == True else 0)"
   ]
  },
  {
   "cell_type": "code",
   "execution_count": 30,
   "id": "ca15475c",
   "metadata": {},
   "outputs": [
    {
     "data": {
      "text/html": [
       "<div>\n",
       "<style scoped>\n",
       "    .dataframe tbody tr th:only-of-type {\n",
       "        vertical-align: middle;\n",
       "    }\n",
       "\n",
       "    .dataframe tbody tr th {\n",
       "        vertical-align: top;\n",
       "    }\n",
       "\n",
       "    .dataframe thead th {\n",
       "        text-align: right;\n",
       "    }\n",
       "</style>\n",
       "<table border=\"1\" class=\"dataframe\">\n",
       "  <thead>\n",
       "    <tr style=\"text-align: right;\">\n",
       "      <th></th>\n",
       "      <th>subscriber</th>\n",
       "      <th>buyer</th>\n",
       "    </tr>\n",
       "  </thead>\n",
       "  <tbody>\n",
       "    <tr>\n",
       "      <th>subscriber</th>\n",
       "      <td>1.000000</td>\n",
       "      <td>0.703276</td>\n",
       "    </tr>\n",
       "    <tr>\n",
       "      <th>buyer</th>\n",
       "      <td>0.703276</td>\n",
       "      <td>1.000000</td>\n",
       "    </tr>\n",
       "  </tbody>\n",
       "</table>\n",
       "</div>"
      ],
      "text/plain": [
       "            subscriber     buyer\n",
       "subscriber    1.000000  0.703276\n",
       "buyer         0.703276  1.000000"
      ]
     },
     "execution_count": 30,
     "metadata": {},
     "output_type": "execute_result"
    }
   ],
   "source": [
    "## Correlation between the subscribing and the purchasing users\n",
    "first[[\"subscriber\", \"buyer\"]].corr()"
   ]
  },
  {
   "cell_type": "code",
   "execution_count": 31,
   "id": "688ec4c1",
   "metadata": {},
   "outputs": [
    {
     "data": {
      "text/html": [
       "<div>\n",
       "<style scoped>\n",
       "    .dataframe tbody tr th:only-of-type {\n",
       "        vertical-align: middle;\n",
       "    }\n",
       "\n",
       "    .dataframe tbody tr th {\n",
       "        vertical-align: top;\n",
       "    }\n",
       "\n",
       "    .dataframe thead th {\n",
       "        text-align: right;\n",
       "    }\n",
       "</style>\n",
       "<table border=\"1\" class=\"dataframe\">\n",
       "  <thead>\n",
       "    <tr style=\"text-align: right;\">\n",
       "      <th></th>\n",
       "      <th>subscriber</th>\n",
       "      <th>country</th>\n",
       "    </tr>\n",
       "  </thead>\n",
       "  <tbody>\n",
       "    <tr>\n",
       "      <th>0</th>\n",
       "      <td>28</td>\n",
       "      <td>country_1</td>\n",
       "    </tr>\n",
       "    <tr>\n",
       "      <th>1</th>\n",
       "      <td>1558</td>\n",
       "      <td>country_2</td>\n",
       "    </tr>\n",
       "    <tr>\n",
       "      <th>2</th>\n",
       "      <td>160</td>\n",
       "      <td>country_3</td>\n",
       "    </tr>\n",
       "    <tr>\n",
       "      <th>3</th>\n",
       "      <td>1419</td>\n",
       "      <td>country_4</td>\n",
       "    </tr>\n",
       "    <tr>\n",
       "      <th>4</th>\n",
       "      <td>2334</td>\n",
       "      <td>country_5</td>\n",
       "    </tr>\n",
       "    <tr>\n",
       "      <th>5</th>\n",
       "      <td>546</td>\n",
       "      <td>country_6</td>\n",
       "    </tr>\n",
       "    <tr>\n",
       "      <th>6</th>\n",
       "      <td>1470</td>\n",
       "      <td>country_7</td>\n",
       "    </tr>\n",
       "    <tr>\n",
       "      <th>7</th>\n",
       "      <td>103</td>\n",
       "      <td>country_8</td>\n",
       "    </tr>\n",
       "  </tbody>\n",
       "</table>\n",
       "</div>"
      ],
      "text/plain": [
       "   subscriber    country\n",
       "0          28  country_1\n",
       "1        1558  country_2\n",
       "2         160  country_3\n",
       "3        1419  country_4\n",
       "4        2334  country_5\n",
       "5         546  country_6\n",
       "6        1470  country_7\n",
       "7         103  country_8"
      ]
     },
     "execution_count": 31,
     "metadata": {},
     "output_type": "execute_result"
    }
   ],
   "source": [
    "## Subscribing users by countries\n",
    "first.loc[first[\"subscriber\"] == 1].groupby(\"country\", as_index=False).count()[[\"subscriber\", \"country\"]]"
   ]
  },
  {
   "cell_type": "code",
   "execution_count": 32,
   "id": "ebe32b5c",
   "metadata": {},
   "outputs": [
    {
     "data": {
      "text/plain": [
       "<matplotlib.axes._subplots.AxesSubplot at 0x7fda6cd96e48>"
      ]
     },
     "execution_count": 32,
     "metadata": {},
     "output_type": "execute_result"
    },
    {
     "data": {
      "image/png": "[encoded data removed]",
      "text/plain": [
       "<matplotlib.figure.Figure at 0x7fda6cb5e630>"
      ]
     },
     "metadata": {
      "needs_background": "light"
     },
     "output_type": "display_data"
    }
   ],
   "source": [
    "##Subscribing users by countries\n",
    "first.loc[first[\"subscriber\"] == 1].groupby(\"country\").count()[[\"event_type\"]].plot(kind=\"bar\",legend=False,title=\"Users subscribed by countries\")"
   ]
  },
  {
   "cell_type": "code",
   "execution_count": 33,
   "id": "68907439",
   "metadata": {},
   "outputs": [
    {
     "data": {
      "text/plain": [
       "1759"
      ]
     },
     "execution_count": 33,
     "metadata": {},
     "output_type": "execute_result"
    }
   ],
   "source": [
    "## Finding the users who bought both of the courses \n",
    "buy[\"double\"] = buy_8.user_id.isin(buy_80.user_id).apply(lambda x: 1 if x == True else 0)\n",
    "buy[\"double\"] = buy[\"double\"].fillna(0)\n",
    "buy[\"double\"] = buy[\"double\"].astype(int)\n",
    "\n",
    "## Then putting them into the main df.\n",
    "double = buy.loc[buy[\"double\"] == 1]\n",
    "first[\"double\"] = first.user_id.isin(double.user_id).apply(lambda x: 1 if x == True else 0)\n",
    "\n",
    "## Number of users who bought both of the courses\n",
    "first[\"double\"].sum()"
   ]
  },
  {
   "cell_type": "code",
   "execution_count": 34,
   "id": "0b758e85",
   "metadata": {},
   "outputs": [
    {
     "data": {
      "text/html": [
       "<div>\n",
       "<style scoped>\n",
       "    .dataframe tbody tr th:only-of-type {\n",
       "        vertical-align: middle;\n",
       "    }\n",
       "\n",
       "    .dataframe tbody tr th {\n",
       "        vertical-align: top;\n",
       "    }\n",
       "\n",
       "    .dataframe thead th {\n",
       "        text-align: right;\n",
       "    }\n",
       "</style>\n",
       "<table border=\"1\" class=\"dataframe\">\n",
       "  <thead>\n",
       "    <tr style=\"text-align: right;\">\n",
       "      <th></th>\n",
       "      <th>double</th>\n",
       "      <th>buyer</th>\n",
       "    </tr>\n",
       "  </thead>\n",
       "  <tbody>\n",
       "    <tr>\n",
       "      <th>double</th>\n",
       "      <td>1.000000</td>\n",
       "      <td>0.508311</td>\n",
       "    </tr>\n",
       "    <tr>\n",
       "      <th>buyer</th>\n",
       "      <td>0.508311</td>\n",
       "      <td>1.000000</td>\n",
       "    </tr>\n",
       "  </tbody>\n",
       "</table>\n",
       "</div>"
      ],
      "text/plain": [
       "          double     buyer\n",
       "double  1.000000  0.508311\n",
       "buyer   0.508311  1.000000"
      ]
     },
     "execution_count": 34,
     "metadata": {},
     "output_type": "execute_result"
    }
   ],
   "source": [
    "## Correlation between the customers and the customers who bought both of the courses\n",
    "first[[\"double\", \"buyer\"]].corr()"
   ]
  },
  {
   "cell_type": "code",
   "execution_count": 35,
   "id": "36a6a8f6",
   "metadata": {},
   "outputs": [
    {
     "data": {
      "text/plain": [
       "<matplotlib.axes._subplots.AxesSubplot at 0x7fda6cbfc128>"
      ]
     },
     "execution_count": 35,
     "metadata": {},
     "output_type": "execute_result"
    },
    {
     "data": {
      "image/png": "[encoded data removed]",
      "text/plain": [
       "<matplotlib.figure.Figure at 0x7fda6cc5a3c8>"
      ]
     },
     "metadata": {
      "needs_background": "light"
     },
     "output_type": "display_data"
    }
   ],
   "source": [
    "first.loc[first[\"double\"]==1].groupby(\"country\").count()[[\"event_type\"]].plot(kind=\"bar\",legend=False, title=\"Users bought both courses by countries\")"
   ]
  },
  {
   "cell_type": "code",
   "execution_count": 36,
   "id": "5c26c939",
   "metadata": {
    "scrolled": true
   },
   "outputs": [
    {
     "data": {
      "text/html": [
       "<div>\n",
       "<style scoped>\n",
       "    .dataframe tbody tr th:only-of-type {\n",
       "        vertical-align: middle;\n",
       "    }\n",
       "\n",
       "    .dataframe tbody tr th {\n",
       "        vertical-align: top;\n",
       "    }\n",
       "\n",
       "    .dataframe thead th {\n",
       "        text-align: right;\n",
       "    }\n",
       "</style>\n",
       "<table border=\"1\" class=\"dataframe\">\n",
       "  <thead>\n",
       "    <tr style=\"text-align: right;\">\n",
       "      <th></th>\n",
       "      <th>buyer</th>\n",
       "    </tr>\n",
       "    <tr>\n",
       "      <th>source</th>\n",
       "      <th></th>\n",
       "    </tr>\n",
       "  </thead>\n",
       "  <tbody>\n",
       "    <tr>\n",
       "      <th>AdWords</th>\n",
       "      <td>242</td>\n",
       "    </tr>\n",
       "    <tr>\n",
       "      <th>Reddit</th>\n",
       "      <td>809</td>\n",
       "    </tr>\n",
       "    <tr>\n",
       "      <th>SEO</th>\n",
       "      <td>708</td>\n",
       "    </tr>\n",
       "  </tbody>\n",
       "</table>\n",
       "</div>"
      ],
      "text/plain": [
       "         buyer\n",
       "source        \n",
       "AdWords    242\n",
       "Reddit     809\n",
       "SEO        708"
      ]
     },
     "execution_count": 36,
     "metadata": {},
     "output_type": "execute_result"
    }
   ],
   "source": [
    "##Users bought both courses by sources\n",
    "first.loc[first[\"double\"]==1].groupby(\"source\").sum()[[\"buyer\"]]"
   ]
  },
  {
   "cell_type": "code",
   "execution_count": 37,
   "id": "061bbb0d",
   "metadata": {},
   "outputs": [
    {
     "data": {
      "text/html": [
       "<div>\n",
       "<style scoped>\n",
       "    .dataframe tbody tr th:only-of-type {\n",
       "        vertical-align: middle;\n",
       "    }\n",
       "\n",
       "    .dataframe tbody tr th {\n",
       "        vertical-align: top;\n",
       "    }\n",
       "\n",
       "    .dataframe thead th {\n",
       "        text-align: right;\n",
       "    }\n",
       "</style>\n",
       "<table border=\"1\" class=\"dataframe\">\n",
       "  <thead>\n",
       "    <tr style=\"text-align: right;\">\n",
       "      <th></th>\n",
       "      <th>event_type</th>\n",
       "    </tr>\n",
       "    <tr>\n",
       "      <th>source</th>\n",
       "      <th></th>\n",
       "    </tr>\n",
       "  </thead>\n",
       "  <tbody>\n",
       "    <tr>\n",
       "      <th>AdWords</th>\n",
       "      <td>1072</td>\n",
       "    </tr>\n",
       "    <tr>\n",
       "      <th>Reddit</th>\n",
       "      <td>3443</td>\n",
       "    </tr>\n",
       "    <tr>\n",
       "      <th>SEO</th>\n",
       "      <td>3103</td>\n",
       "    </tr>\n",
       "  </tbody>\n",
       "</table>\n",
       "</div>"
      ],
      "text/plain": [
       "         event_type\n",
       "source             \n",
       "AdWords        1072\n",
       "Reddit         3443\n",
       "SEO            3103"
      ]
     },
     "execution_count": 37,
     "metadata": {},
     "output_type": "execute_result"
    }
   ],
   "source": [
    "##Users subscribed by sources\n",
    "first.loc[first[\"subscriber\"] == 1].groupby(\"source\").count()[[\"event_type\"]]"
   ]
  },
  {
   "cell_type": "code",
   "execution_count": 38,
   "id": "6bea3499",
   "metadata": {},
   "outputs": [
    {
     "data": {
      "text/html": [
       "<div>\n",
       "<style scoped>\n",
       "    .dataframe tbody tr th:only-of-type {\n",
       "        vertical-align: middle;\n",
       "    }\n",
       "\n",
       "    .dataframe tbody tr th {\n",
       "        vertical-align: top;\n",
       "    }\n",
       "\n",
       "    .dataframe thead th {\n",
       "        text-align: right;\n",
       "    }\n",
       "</style>\n",
       "<table border=\"1\" class=\"dataframe\">\n",
       "  <thead>\n",
       "    <tr style=\"text-align: right;\">\n",
       "      <th></th>\n",
       "      <th>course_80</th>\n",
       "      <th>course_8</th>\n",
       "    </tr>\n",
       "    <tr>\n",
       "      <th>source</th>\n",
       "      <th></th>\n",
       "      <th></th>\n",
       "    </tr>\n",
       "  </thead>\n",
       "  <tbody>\n",
       "    <tr>\n",
       "      <th>AdWords</th>\n",
       "      <td>243</td>\n",
       "      <td>1028</td>\n",
       "    </tr>\n",
       "    <tr>\n",
       "      <th>Reddit</th>\n",
       "      <td>813</td>\n",
       "      <td>3090</td>\n",
       "    </tr>\n",
       "    <tr>\n",
       "      <th>SEO</th>\n",
       "      <td>711</td>\n",
       "      <td>2522</td>\n",
       "    </tr>\n",
       "  </tbody>\n",
       "</table>\n",
       "</div>"
      ],
      "text/plain": [
       "         course_80  course_8\n",
       "source                      \n",
       "AdWords        243      1028\n",
       "Reddit         813      3090\n",
       "SEO            711      2522"
      ]
     },
     "execution_count": 38,
     "metadata": {},
     "output_type": "execute_result"
    }
   ],
   "source": [
    "##Purchasing users by sources - segmented by 8$ and 80$ courses\n",
    "first.loc[first[\"buyer\"] == 1,:].groupby(\"source\").sum()[[\"course_80\", \"course_8\"]]"
   ]
  },
  {
   "cell_type": "code",
   "execution_count": 39,
   "id": "692c9ae5",
   "metadata": {},
   "outputs": [
    {
     "data": {
      "text/plain": [
       "Reddit     105216\n",
       "AdWords     63065\n",
       "SEO         41742\n",
       "Name: source, dtype: int64"
      ]
     },
     "execution_count": 39,
     "metadata": {},
     "output_type": "execute_result"
    }
   ],
   "source": [
    "## First time reader by sources\n",
    "first.source.value_counts()"
   ]
  },
  {
   "cell_type": "code",
   "execution_count": 40,
   "id": "81e8d74b",
   "metadata": {
    "scrolled": true
   },
   "outputs": [
    {
     "data": {
      "text/plain": [
       "array([<matplotlib.axes._subplots.AxesSubplot object at 0x7fda6c9a2cc0>],\n",
       "      dtype=object)"
      ]
     },
     "execution_count": 40,
     "metadata": {},
     "output_type": "execute_result"
    },
    {
     "data": {
      "image/png": "[encoded data removed]",
      "text/plain": [
       "<matplotlib.figure.Figure at 0x7fda6ca002b0>"
      ]
     },
     "metadata": {},
     "output_type": "display_data"
    },
    {
     "data": {
      "image/png": "[encoded data removed]",
      "text/plain": [
       "<matplotlib.figure.Figure at 0x7fda6c9b9f60>"
      ]
     },
     "metadata": {
      "needs_background": "light"
     },
     "output_type": "display_data"
    },
    {
     "data": {
      "image/png": "[encoded data removed]",
      "text/plain": [
       "<matplotlib.figure.Figure at 0x7fda6cd27208>"
      ]
     },
     "metadata": {},
     "output_type": "display_data"
    }
   ],
   "source": [
    "## First time reader by sources\n",
    "first.source.value_counts().plot(kind=\"pie\", autopct='%1.1f%%', \n",
    " startangle=45, title=\"First time reader by sources\", explode=(0,0,0.1))\n",
    "\n",
    "## Purchasing users by sources\n",
    "first.loc[first[\"buyer\"] == 1,:].groupby(\"source\").sum()[[\"course_80\", \"course_8\"]].plot(kind=\"bar\", figsize=(5,5),legend=\"False\", stacked=True, title=\"Purchasing users by sources\")\n",
    "\n",
    "first.loc[first[\"buyer\"] == 1,:].groupby(\"source\").sum()[[\"buyer\"]].plot(kind=\"pie\",autopct='%1.1f%%', figsize=(5,5),legend=\"False\", subplots=True, title=\"Purchasing users by sources\")"
   ]
  },
  {
   "cell_type": "code",
   "execution_count": 41,
   "id": "8130eb86",
   "metadata": {},
   "outputs": [
    {
     "data": {
      "text/plain": [
       "array([<matplotlib.axes._subplots.AxesSubplot object at 0x7fda6c8ddef0>],\n",
       "      dtype=object)"
      ]
     },
     "execution_count": 41,
     "metadata": {},
     "output_type": "execute_result"
    },
    {
     "data": {
      "image/png": "[encoded data removed]",
      "text/plain": [
       "<matplotlib.figure.Figure at 0x7fda6c91e320>"
      ]
     },
     "metadata": {
      "needs_background": "light"
     },
     "output_type": "display_data"
    },
    {
     "data": {
      "image/png": "[encoded data removed]",
      "text/plain": [
       "<matplotlib.figure.Figure at 0x7fda6cacae48>"
      ]
     },
     "metadata": {},
     "output_type": "display_data"
    }
   ],
   "source": [
    "## Users bought both courses by sources\n",
    "first.loc[first[\"double\"]==1].groupby(\"source\").count()[[\"event_type\"]].plot(kind=\"bar\",figsize=(5,3),legend=False\n",
    "                                                                             ,title=\"Users bought both courses by sources\")\n",
    "\n",
    "## Users subscribed by sources\n",
    "first.loc[first[\"subscriber\"] == 1].groupby(\"source\").count()[[\"event_type\"]].plot(kind=\"pie\",autopct='%1.1f%%',subplots=True, explode=(0.1,0,0), figsize=(5,3),legend=False, title=\"Users subscribed by sources\")"
   ]
  },
  {
   "cell_type": "code",
   "execution_count": 42,
   "id": "ecfc2305",
   "metadata": {},
   "outputs": [
    {
     "data": {
      "text/html": [
       "<div>\n",
       "<style scoped>\n",
       "    .dataframe tbody tr th:only-of-type {\n",
       "        vertical-align: middle;\n",
       "    }\n",
       "\n",
       "    .dataframe tbody tr th {\n",
       "        vertical-align: top;\n",
       "    }\n",
       "\n",
       "    .dataframe thead th {\n",
       "        text-align: right;\n",
       "    }\n",
       "</style>\n",
       "<table border=\"1\" class=\"dataframe\">\n",
       "  <thead>\n",
       "    <tr style=\"text-align: right;\">\n",
       "      <th></th>\n",
       "      <th>event_type</th>\n",
       "    </tr>\n",
       "    <tr>\n",
       "      <th>source</th>\n",
       "      <th></th>\n",
       "    </tr>\n",
       "  </thead>\n",
       "  <tbody>\n",
       "    <tr>\n",
       "      <th>AdWords</th>\n",
       "      <td>242</td>\n",
       "    </tr>\n",
       "    <tr>\n",
       "      <th>Reddit</th>\n",
       "      <td>809</td>\n",
       "    </tr>\n",
       "    <tr>\n",
       "      <th>SEO</th>\n",
       "      <td>708</td>\n",
       "    </tr>\n",
       "  </tbody>\n",
       "</table>\n",
       "</div>"
      ],
      "text/plain": [
       "         event_type\n",
       "source             \n",
       "AdWords         242\n",
       "Reddit          809\n",
       "SEO             708"
      ]
     },
     "execution_count": 42,
     "metadata": {},
     "output_type": "execute_result"
    }
   ],
   "source": [
    "## Users bought both courses by sources\n",
    "first.loc[first[\"double\"]==1].groupby(\"source\").count()[[\"event_type\"]]"
   ]
  },
  {
   "cell_type": "code",
   "execution_count": 43,
   "id": "eebeb414",
   "metadata": {},
   "outputs": [],
   "source": [
    "## Purchasing and subscribing users by topics"
   ]
  },
  {
   "cell_type": "code",
   "execution_count": 44,
   "id": "6efd0898",
   "metadata": {},
   "outputs": [
    {
     "data": {
      "text/plain": [
       "<matplotlib.axes._subplots.AxesSubplot at 0x7fda6c9ea828>"
      ]
     },
     "execution_count": 44,
     "metadata": {},
     "output_type": "execute_result"
    },
    {
     "data": {
      "image/png": "[encoded data removed]",
      "text/plain": [
       "<matplotlib.figure.Figure at 0x7fda6c8c80b8>"
      ]
     },
     "metadata": {
      "needs_background": "light"
     },
     "output_type": "display_data"
    },
    {
     "data": {
      "image/png": "[encoded data removed]",
      "text/plain": [
       "<matplotlib.figure.Figure at 0x7fda6c8c81d0>"
      ]
     },
     "metadata": {
      "needs_background": "light"
     },
     "output_type": "display_data"
    },
    {
     "data": {
      "image/png": "[encoded data removed]",
      "text/plain": [
       "<matplotlib.figure.Figure at 0x7fda6c818978>"
      ]
     },
     "metadata": {
      "needs_background": "light"
     },
     "output_type": "display_data"
    }
   ],
   "source": [
    "first.loc[first[\"double\"]==1].groupby(\"topic\").count()[[\"event_type\"]].plot(kind=\"bar\", title=\"Users bought both courses by topics\")\n",
    "\n",
    "first.loc[first[\"subscriber\"] == 1].groupby(\"topic\").count()[[\"event_type\"]].plot(kind=\"bar\",legend=False,title=\"Users subscribed by topics\")\n",
    "\n",
    "first.loc[first[\"buyer\"] == 1].groupby(\"topic\").count()[[\"event_type\"]].plot(kind=\"bar\",legend=False,title=\"Purchasing users by topics\")"
   ]
  },
  {
   "cell_type": "code",
   "execution_count": 45,
   "id": "2e22bfdb",
   "metadata": {},
   "outputs": [],
   "source": [
    "## Predictions"
   ]
  },
  {
   "cell_type": "code",
   "execution_count": 46,
   "id": "cfbb4de6",
   "metadata": {},
   "outputs": [],
   "source": [
    "purchase= first.loc[first.buyer == 1].groupby(\"date\", as_index=False).sum()[[\"date\",\"buyer\",\"course_80\",\"course_8\"]]"
   ]
  },
  {
   "cell_type": "code",
   "execution_count": 47,
   "id": "911f1f58",
   "metadata": {},
   "outputs": [
    {
     "data": {
      "text/html": [
       "<div>\n",
       "<style scoped>\n",
       "    .dataframe tbody tr th:only-of-type {\n",
       "        vertical-align: middle;\n",
       "    }\n",
       "\n",
       "    .dataframe tbody tr th {\n",
       "        vertical-align: top;\n",
       "    }\n",
       "\n",
       "    .dataframe thead th {\n",
       "        text-align: right;\n",
       "    }\n",
       "</style>\n",
       "<table border=\"1\" class=\"dataframe\">\n",
       "  <thead>\n",
       "    <tr style=\"text-align: right;\">\n",
       "      <th></th>\n",
       "      <th>date</th>\n",
       "      <th>buyer</th>\n",
       "      <th>course_80</th>\n",
       "      <th>course_8</th>\n",
       "    </tr>\n",
       "  </thead>\n",
       "  <tbody>\n",
       "    <tr>\n",
       "      <th>0</th>\n",
       "      <td>2018-01-01</td>\n",
       "      <td>84</td>\n",
       "      <td>28</td>\n",
       "      <td>83</td>\n",
       "    </tr>\n",
       "    <tr>\n",
       "      <th>1</th>\n",
       "      <td>2018-01-02</td>\n",
       "      <td>76</td>\n",
       "      <td>25</td>\n",
       "      <td>76</td>\n",
       "    </tr>\n",
       "    <tr>\n",
       "      <th>2</th>\n",
       "      <td>2018-01-03</td>\n",
       "      <td>54</td>\n",
       "      <td>13</td>\n",
       "      <td>54</td>\n",
       "    </tr>\n",
       "    <tr>\n",
       "      <th>3</th>\n",
       "      <td>2018-01-04</td>\n",
       "      <td>83</td>\n",
       "      <td>24</td>\n",
       "      <td>83</td>\n",
       "    </tr>\n",
       "    <tr>\n",
       "      <th>4</th>\n",
       "      <td>2018-01-05</td>\n",
       "      <td>81</td>\n",
       "      <td>29</td>\n",
       "      <td>81</td>\n",
       "    </tr>\n",
       "    <tr>\n",
       "      <th>...</th>\n",
       "      <td>...</td>\n",
       "      <td>...</td>\n",
       "      <td>...</td>\n",
       "      <td>...</td>\n",
       "    </tr>\n",
       "    <tr>\n",
       "      <th>79</th>\n",
       "      <td>2018-03-21</td>\n",
       "      <td>119</td>\n",
       "      <td>28</td>\n",
       "      <td>119</td>\n",
       "    </tr>\n",
       "    <tr>\n",
       "      <th>80</th>\n",
       "      <td>2018-03-22</td>\n",
       "      <td>98</td>\n",
       "      <td>12</td>\n",
       "      <td>98</td>\n",
       "    </tr>\n",
       "    <tr>\n",
       "      <th>81</th>\n",
       "      <td>2018-03-23</td>\n",
       "      <td>119</td>\n",
       "      <td>12</td>\n",
       "      <td>118</td>\n",
       "    </tr>\n",
       "    <tr>\n",
       "      <th>82</th>\n",
       "      <td>2018-03-24</td>\n",
       "      <td>124</td>\n",
       "      <td>0</td>\n",
       "      <td>124</td>\n",
       "    </tr>\n",
       "    <tr>\n",
       "      <th>83</th>\n",
       "      <td>2018-03-25</td>\n",
       "      <td>63</td>\n",
       "      <td>0</td>\n",
       "      <td>63</td>\n",
       "    </tr>\n",
       "  </tbody>\n",
       "</table>\n",
       "<p>84 rows × 4 columns</p>\n",
       "</div>"
      ],
      "text/plain": [
       "          date  buyer  course_80  course_8\n",
       "0   2018-01-01     84         28        83\n",
       "1   2018-01-02     76         25        76\n",
       "2   2018-01-03     54         13        54\n",
       "3   2018-01-04     83         24        83\n",
       "4   2018-01-05     81         29        81\n",
       "..         ...    ...        ...       ...\n",
       "79  2018-03-21    119         28       119\n",
       "80  2018-03-22     98         12        98\n",
       "81  2018-03-23    119         12       118\n",
       "82  2018-03-24    124          0       124\n",
       "83  2018-03-25     63          0        63\n",
       "\n",
       "[84 rows x 4 columns]"
      ]
     },
     "execution_count": 47,
     "metadata": {},
     "output_type": "execute_result"
    }
   ],
   "source": [
    "purchase"
   ]
  },
  {
   "cell_type": "code",
   "execution_count": 48,
   "id": "e02f0863",
   "metadata": {},
   "outputs": [
    {
     "data": {
      "text/plain": [
       "<matplotlib.collections.PathCollection at 0x7fda6c7634a8>"
      ]
     },
     "execution_count": 48,
     "metadata": {},
     "output_type": "execute_result"
    },
    {
     "data": {
      "image/png": "[encoded data removed]",
      "text/plain": [
       "<matplotlib.figure.Figure at 0x7fda6c8c89e8>"
      ]
     },
     "metadata": {
      "needs_background": "light"
     },
     "output_type": "display_data"
    }
   ],
   "source": [
    "plt.scatter(purchase.index, purchase.buyer)"
   ]
  },
  {
   "cell_type": "code",
   "execution_count": 49,
   "id": "6eb6715a",
   "metadata": {},
   "outputs": [
    {
     "data": {
      "text/html": [
       "<div>\n",
       "<style scoped>\n",
       "    .dataframe tbody tr th:only-of-type {\n",
       "        vertical-align: middle;\n",
       "    }\n",
       "\n",
       "    .dataframe tbody tr th {\n",
       "        vertical-align: top;\n",
       "    }\n",
       "\n",
       "    .dataframe thead th {\n",
       "        text-align: right;\n",
       "    }\n",
       "</style>\n",
       "<table border=\"1\" class=\"dataframe\">\n",
       "  <thead>\n",
       "    <tr style=\"text-align: right;\">\n",
       "      <th></th>\n",
       "      <th>buyer</th>\n",
       "      <th>course_8</th>\n",
       "    </tr>\n",
       "  </thead>\n",
       "  <tbody>\n",
       "    <tr>\n",
       "      <th>buyer</th>\n",
       "      <td>1.000000</td>\n",
       "      <td>0.999785</td>\n",
       "    </tr>\n",
       "    <tr>\n",
       "      <th>course_8</th>\n",
       "      <td>0.999785</td>\n",
       "      <td>1.000000</td>\n",
       "    </tr>\n",
       "  </tbody>\n",
       "</table>\n",
       "</div>"
      ],
      "text/plain": [
       "             buyer  course_8\n",
       "buyer     1.000000  0.999785\n",
       "course_8  0.999785  1.000000"
      ]
     },
     "execution_count": 49,
     "metadata": {},
     "output_type": "execute_result"
    }
   ],
   "source": [
    "purchase[[\"buyer\",\"course_8\"]].corr()"
   ]
  },
  {
   "cell_type": "code",
   "execution_count": 50,
   "id": "d70c92a4",
   "metadata": {
    "scrolled": true
   },
   "outputs": [
    {
     "data": {
      "text/plain": [
       "<matplotlib.collections.PathCollection at 0x7fda6c7ef748>"
      ]
     },
     "execution_count": 50,
     "metadata": {},
     "output_type": "execute_result"
    },
    {
     "data": {
      "image/png": "[encoded data removed]",
      "text/plain": [
       "<matplotlib.figure.Figure at 0x7fda6c7366a0>"
      ]
     },
     "metadata": {
      "needs_background": "light"
     },
     "output_type": "display_data"
    }
   ],
   "source": [
    "plt.scatter(purchase.index, purchase.course_80)\n",
    "plt.scatter(purchase.index, purchase.course_8)"
   ]
  },
  {
   "cell_type": "code",
   "execution_count": 51,
   "id": "25ce4ed8",
   "metadata": {},
   "outputs": [],
   "source": [
    "x_buyer = purchase.index"
   ]
  },
  {
   "cell_type": "code",
   "execution_count": 52,
   "id": "dbfbb8ac",
   "metadata": {},
   "outputs": [
    {
     "data": {
      "text/plain": [
       "124"
      ]
     },
     "execution_count": 52,
     "metadata": {},
     "output_type": "execute_result"
    }
   ],
   "source": [
    "y_buyer = purchase.buyer\n",
    "y_buyer.max()"
   ]
  },
  {
   "cell_type": "code",
   "execution_count": 53,
   "id": "8e8ac979",
   "metadata": {},
   "outputs": [],
   "source": [
    "## Prediction on purchasing users"
   ]
  },
  {
   "cell_type": "code",
   "execution_count": 54,
   "id": "133b7459",
   "metadata": {},
   "outputs": [],
   "source": [
    "coefs_buyer = np.polyfit(x_buyer, y_buyer, 2)\n",
    "predict_buyer = np.poly1d(coefs_buyer)"
   ]
  },
  {
   "cell_type": "code",
   "execution_count": 55,
   "id": "335d6617",
   "metadata": {},
   "outputs": [
    {
     "data": {
      "image/png": "[encoded data removed]",
      "text/plain": [
       "<matplotlib.figure.Figure at 0x7fda6c81d518>"
      ]
     },
     "metadata": {
      "needs_background": "light"
     },
     "output_type": "display_data"
    }
   ],
   "source": [
    "x_test_buyer = np.linspace(0, 120)\n",
    "y_pred_buyer = predict_buyer(x_test_buyer[:, None])\n",
    "plt.scatter(x_buyer,y_buyer)\n",
    "plt.plot(x_test_buyer, y_pred_buyer, c = 'r')\n",
    "plt.show()"
   ]
  },
  {
   "cell_type": "code",
   "execution_count": 56,
   "id": "c8bfbb28",
   "metadata": {
    "scrolled": true
   },
   "outputs": [
    {
     "data": {
      "text/plain": [
       "104.75634466731498"
      ]
     },
     "execution_count": 56,
     "metadata": {},
     "output_type": "execute_result"
    }
   ],
   "source": [
    "predict_buyer(82)"
   ]
  },
  {
   "cell_type": "code",
   "execution_count": 57,
   "id": "f1664eae",
   "metadata": {},
   "outputs": [
    {
     "data": {
      "text/plain": [
       "205.5958090698232"
      ]
     },
     "execution_count": 57,
     "metadata": {},
     "output_type": "execute_result"
    }
   ],
   "source": [
    "predict_buyer(140)"
   ]
  },
  {
   "cell_type": "code",
   "execution_count": 58,
   "id": "edfb1478",
   "metadata": {},
   "outputs": [
    {
     "data": {
      "text/plain": [
       "79    119\n",
       "80     98\n",
       "81    119\n",
       "82    124\n",
       "83     63\n",
       "Name: buyer, dtype: int64"
      ]
     },
     "execution_count": 58,
     "metadata": {},
     "output_type": "execute_result"
    }
   ],
   "source": [
    "purchase.buyer.tail()"
   ]
  },
  {
   "cell_type": "code",
   "execution_count": 59,
   "id": "8d923d42",
   "metadata": {},
   "outputs": [
    {
     "data": {
      "text/plain": [
       "0.43406220143609675"
      ]
     },
     "execution_count": 59,
     "metadata": {},
     "output_type": "execute_result"
    }
   ],
   "source": [
    "from sklearn.metrics import r2_score\n",
    "r2_score(y_buyer, predict_buyer(x_buyer))"
   ]
  },
  {
   "cell_type": "code",
   "execution_count": 60,
   "id": "f0671ec2",
   "metadata": {},
   "outputs": [
    {
     "data": {
      "text/plain": [
       "641.1372799507085"
      ]
     },
     "execution_count": 60,
     "metadata": {},
     "output_type": "execute_result"
    }
   ],
   "source": [
    "from sklearn.metrics import mean_squared_error\n",
    "from sklearn.metrics import mean_absolute_error\n",
    "from sklearn.metrics import mean_absolute_percentage_error\n",
    "\n",
    "## MSE_buyer - Mean Squared Error\n",
    "mean_squared_error(y_buyer, predict_buyer(y_buyer))"
   ]
  },
  {
   "cell_type": "code",
   "execution_count": 61,
   "id": "2fbeb7e0",
   "metadata": {},
   "outputs": [
    {
     "data": {
      "text/plain": [
       "24.84032075445247"
      ]
     },
     "execution_count": 61,
     "metadata": {},
     "output_type": "execute_result"
    }
   ],
   "source": [
    "## MAE_buyer - Mean Absolute Error\n",
    "mean_absolute_error(y_buyer, predict_buyer(y_buyer))"
   ]
  },
  {
   "cell_type": "code",
   "execution_count": 62,
   "id": "caf3d9a9",
   "metadata": {},
   "outputs": [
    {
     "data": {
      "text/plain": [
       "0.31897008252211906"
      ]
     },
     "execution_count": 62,
     "metadata": {},
     "output_type": "execute_result"
    }
   ],
   "source": [
    "## MAPE_buyer - Mean Absolute Percentage Error\n",
    "mean_absolute_percentage_error(y_buyer, predict_buyer(y_buyer))"
   ]
  },
  {
   "cell_type": "code",
   "execution_count": 63,
   "id": "2f23fc30",
   "metadata": {},
   "outputs": [
    {
     "data": {
      "image/png": "[encoded data removed]",
      "text/plain": [
       "<matplotlib.figure.Figure at 0x7fda54de1e48>"
      ]
     },
     "metadata": {
      "needs_background": "light"
     },
     "output_type": "display_data"
    }
   ],
   "source": [
    "## Prediction on 80$ course purchasing\n",
    "\n",
    "x_80 = purchase.index\n",
    "y_80 = purchase.course_80\n",
    "\n",
    "coefs_80 = np.polyfit(x_80, y_80, 2)\n",
    "predict_80 = np.poly1d(coefs_80)\n",
    "\n",
    "x_test = np.linspace(0, 120)\n",
    "y_pred = predict_80(x_test[:, None])\n",
    "plt.scatter(x_80,y_80)\n",
    "plt.plot(x_test, y_pred, c = 'r')\n",
    "plt.show()"
   ]
  },
  {
   "cell_type": "code",
   "execution_count": 64,
   "id": "097f47e8",
   "metadata": {},
   "outputs": [
    {
     "data": {
      "text/plain": [
       "0.03136280130417879"
      ]
     },
     "execution_count": 64,
     "metadata": {},
     "output_type": "execute_result"
    }
   ],
   "source": [
    "r2_score(y_80, predict_80(x_80))"
   ]
  },
  {
   "cell_type": "code",
   "execution_count": 65,
   "id": "7bd0fb1f",
   "metadata": {},
   "outputs": [
    {
     "data": {
      "text/plain": [
       "39.22597085239648"
      ]
     },
     "execution_count": 65,
     "metadata": {},
     "output_type": "execute_result"
    }
   ],
   "source": [
    "## MSE_80 - Mean Squared Error\n",
    "mean_squared_error(y_80, predict_80(y_80))"
   ]
  },
  {
   "cell_type": "code",
   "execution_count": 66,
   "id": "57ac55bd",
   "metadata": {},
   "outputs": [
    {
     "data": {
      "text/plain": [
       "49.06270825259763"
      ]
     },
     "execution_count": 66,
     "metadata": {},
     "output_type": "execute_result"
    }
   ],
   "source": [
    "## MAE_80 - Mean Absolute Error\n",
    "mean_absolute_error(y_80, predict_buyer(y_80))"
   ]
  },
  {
   "cell_type": "code",
   "execution_count": 67,
   "id": "f26849b0",
   "metadata": {},
   "outputs": [
    {
     "data": {
      "text/plain": [
       "2435313210656841.0"
      ]
     },
     "execution_count": 67,
     "metadata": {},
     "output_type": "execute_result"
    }
   ],
   "source": [
    "## MAPE_80 - Mean Absolute Percentage Error\n",
    "mean_absolute_percentage_error(y_80, predict_80(y_80))"
   ]
  },
  {
   "cell_type": "code",
   "execution_count": 68,
   "id": "afb792d9",
   "metadata": {},
   "outputs": [],
   "source": [
    "## ROI per source costs"
   ]
  },
  {
   "cell_type": "code",
   "execution_count": 69,
   "id": "43808397",
   "metadata": {},
   "outputs": [],
   "source": [
    "investment = first.loc[first[\"buyer\"] == 1,:].groupby(\"source\").sum()[[\"course_80\", \"course_8\"]]"
   ]
  },
  {
   "cell_type": "code",
   "execution_count": 70,
   "id": "13967026",
   "metadata": {},
   "outputs": [],
   "source": [
    "investment[\"sum_80\"] = investment[\"course_80\"] * 80 "
   ]
  },
  {
   "cell_type": "code",
   "execution_count": 71,
   "id": "729a05e7",
   "metadata": {},
   "outputs": [],
   "source": [
    "investment[\"sum_8\"] = investment[\"course_8\"] * 8"
   ]
  },
  {
   "cell_type": "code",
   "execution_count": 72,
   "id": "3d319745",
   "metadata": {},
   "outputs": [],
   "source": [
    "investment[\"sum\"] = investment[\"sum_80\"] + investment[\"sum_8\"]"
   ]
  },
  {
   "cell_type": "code",
   "execution_count": 73,
   "id": "8bc88e09",
   "metadata": {},
   "outputs": [],
   "source": [
    "investment[\"cost_period\"] = [1500,750,750]"
   ]
  },
  {
   "cell_type": "code",
   "execution_count": 74,
   "id": "8f3658d2",
   "metadata": {},
   "outputs": [],
   "source": [
    "investment[\"roi\"] = (investment[\"sum\"] - investment[\"cost_period\"]) / investment[\"cost_period\"]"
   ]
  },
  {
   "cell_type": "code",
   "execution_count": 75,
   "id": "becbf768",
   "metadata": {},
   "outputs": [
    {
     "data": {
      "text/html": [
       "<div>\n",
       "<style scoped>\n",
       "    .dataframe tbody tr th:only-of-type {\n",
       "        vertical-align: middle;\n",
       "    }\n",
       "\n",
       "    .dataframe tbody tr th {\n",
       "        vertical-align: top;\n",
       "    }\n",
       "\n",
       "    .dataframe thead th {\n",
       "        text-align: right;\n",
       "    }\n",
       "</style>\n",
       "<table border=\"1\" class=\"dataframe\">\n",
       "  <thead>\n",
       "    <tr style=\"text-align: right;\">\n",
       "      <th></th>\n",
       "      <th>course_80</th>\n",
       "      <th>course_8</th>\n",
       "      <th>sum_80</th>\n",
       "      <th>sum_8</th>\n",
       "      <th>sum</th>\n",
       "      <th>cost_period</th>\n",
       "      <th>roi</th>\n",
       "    </tr>\n",
       "    <tr>\n",
       "      <th>source</th>\n",
       "      <th></th>\n",
       "      <th></th>\n",
       "      <th></th>\n",
       "      <th></th>\n",
       "      <th></th>\n",
       "      <th></th>\n",
       "      <th></th>\n",
       "    </tr>\n",
       "  </thead>\n",
       "  <tbody>\n",
       "    <tr>\n",
       "      <th>AdWords</th>\n",
       "      <td>243</td>\n",
       "      <td>1028</td>\n",
       "      <td>19440</td>\n",
       "      <td>8224</td>\n",
       "      <td>27664</td>\n",
       "      <td>1500</td>\n",
       "      <td>17.442667</td>\n",
       "    </tr>\n",
       "    <tr>\n",
       "      <th>Reddit</th>\n",
       "      <td>813</td>\n",
       "      <td>3090</td>\n",
       "      <td>65040</td>\n",
       "      <td>24720</td>\n",
       "      <td>89760</td>\n",
       "      <td>750</td>\n",
       "      <td>118.680000</td>\n",
       "    </tr>\n",
       "    <tr>\n",
       "      <th>SEO</th>\n",
       "      <td>711</td>\n",
       "      <td>2522</td>\n",
       "      <td>56880</td>\n",
       "      <td>20176</td>\n",
       "      <td>77056</td>\n",
       "      <td>750</td>\n",
       "      <td>101.741333</td>\n",
       "    </tr>\n",
       "  </tbody>\n",
       "</table>\n",
       "</div>"
      ],
      "text/plain": [
       "         course_80  course_8  sum_80  sum_8    sum  cost_period         roi\n",
       "source                                                                     \n",
       "AdWords        243      1028   19440   8224  27664         1500   17.442667\n",
       "Reddit         813      3090   65040  24720  89760          750  118.680000\n",
       "SEO            711      2522   56880  20176  77056          750  101.741333"
      ]
     },
     "execution_count": 75,
     "metadata": {},
     "output_type": "execute_result"
    }
   ],
   "source": [
    "investment"
   ]
  },
  {
   "cell_type": "code",
   "execution_count": 76,
   "id": "622039a1",
   "metadata": {},
   "outputs": [],
   "source": [
    "## Table of countries by each funnel"
   ]
  },
  {
   "cell_type": "code",
   "execution_count": 77,
   "id": "d15fe2de",
   "metadata": {
    "scrolled": true
   },
   "outputs": [],
   "source": [
    "country_funnel = first.groupby(\"country\").count()[[\"event_type\"]]"
   ]
  },
  {
   "cell_type": "code",
   "execution_count": 78,
   "id": "52808d11",
   "metadata": {},
   "outputs": [],
   "source": [
    "country_funnel = country_funnel.rename(columns={\"event_type\":\"first\"})"
   ]
  },
  {
   "cell_type": "code",
   "execution_count": 79,
   "id": "77a9d271",
   "metadata": {},
   "outputs": [],
   "source": [
    "country_funnel[\"readers\"] = readers.groupby(\"country\").count()[[\"event_type\"]]"
   ]
  },
  {
   "cell_type": "code",
   "execution_count": 80,
   "id": "6d142949",
   "metadata": {},
   "outputs": [],
   "source": [
    "country_funnel[\"%_first_readers\"] = country_funnel[\"readers\"] / country_funnel[\"first\"] "
   ]
  },
  {
   "cell_type": "code",
   "execution_count": 81,
   "id": "350ea869",
   "metadata": {},
   "outputs": [],
   "source": [
    "country_funnel[\"sub\"] = first.loc[first[\"subscriber\"] == 1].groupby(\"country\").count()[[\"event_type\"]]"
   ]
  },
  {
   "cell_type": "code",
   "execution_count": 82,
   "id": "792c5c89",
   "metadata": {},
   "outputs": [],
   "source": [
    "country_funnel[\"%_readers_sub\"] = country_funnel[\"sub\"] / country_funnel[\"readers\"] "
   ]
  },
  {
   "cell_type": "code",
   "execution_count": 83,
   "id": "0b3247f8",
   "metadata": {},
   "outputs": [],
   "source": [
    "country_funnel[\"buy\"] = first.loc[first[\"buyer\"] == 1].groupby(\"country\").count()[[\"event_type\"]]"
   ]
  },
  {
   "cell_type": "code",
   "execution_count": 84,
   "id": "a4897d8c",
   "metadata": {},
   "outputs": [],
   "source": [
    "country_funnel[\"%_sub_buy\"] = country_funnel[\"buy\"] / country_funnel[\"sub\"] "
   ]
  },
  {
   "cell_type": "code",
   "execution_count": 85,
   "id": "42e9e2cc",
   "metadata": {},
   "outputs": [],
   "source": [
    "country_funnel[\"%_first_buy\"] = country_funnel[\"buy\"] / country_funnel[\"first\"] "
   ]
  },
  {
   "cell_type": "code",
   "execution_count": 86,
   "id": "738ef7be",
   "metadata": {},
   "outputs": [
    {
     "data": {
      "text/html": [
       "<style  type=\"text/css\" >\n",
       "</style><table id=\"T_aee7f7f6_5050_11ec_99eb_5e0e4dce1f8a\" ><thead>    <tr>        <th class=\"blank level0\" ></th>        <th class=\"col_heading level0 col0\" >first</th>        <th class=\"col_heading level0 col1\" >readers</th>        <th class=\"col_heading level0 col2\" >%_first_readers</th>        <th class=\"col_heading level0 col3\" >sub</th>        <th class=\"col_heading level0 col4\" >%_readers_sub</th>        <th class=\"col_heading level0 col5\" >buy</th>        <th class=\"col_heading level0 col6\" >%_sub_buy</th>        <th class=\"col_heading level0 col7\" >%_first_buy</th>    </tr>    <tr>        <th class=\"index_name level0\" >country</th>        <th class=\"blank\" ></th>        <th class=\"blank\" ></th>        <th class=\"blank\" ></th>        <th class=\"blank\" ></th>        <th class=\"blank\" ></th>        <th class=\"blank\" ></th>        <th class=\"blank\" ></th>        <th class=\"blank\" ></th>    </tr></thead><tbody>\n",
       "                <tr>\n",
       "                        <th id=\"T_aee7f7f6_5050_11ec_99eb_5e0e4dce1f8alevel0_row0\" class=\"row_heading level0 row0\" >country_1</th>\n",
       "                        <td id=\"T_aee7f7f6_5050_11ec_99eb_5e0e4dce1f8arow0_col0\" class=\"data row0 col0\" >5076</td>\n",
       "                        <td id=\"T_aee7f7f6_5050_11ec_99eb_5e0e4dce1f8arow0_col1\" class=\"data row0 col1\" >191</td>\n",
       "                        <td id=\"T_aee7f7f6_5050_11ec_99eb_5e0e4dce1f8arow0_col2\" class=\"data row0 col2\" >3.76%</td>\n",
       "                        <td id=\"T_aee7f7f6_5050_11ec_99eb_5e0e4dce1f8arow0_col3\" class=\"data row0 col3\" >28</td>\n",
       "                        <td id=\"T_aee7f7f6_5050_11ec_99eb_5e0e4dce1f8arow0_col4\" class=\"data row0 col4\" >14.66%</td>\n",
       "                        <td id=\"T_aee7f7f6_5050_11ec_99eb_5e0e4dce1f8arow0_col5\" class=\"data row0 col5\" >25</td>\n",
       "                        <td id=\"T_aee7f7f6_5050_11ec_99eb_5e0e4dce1f8arow0_col6\" class=\"data row0 col6\" >89.29%</td>\n",
       "                        <td id=\"T_aee7f7f6_5050_11ec_99eb_5e0e4dce1f8arow0_col7\" class=\"data row0 col7\" >0.49%</td>\n",
       "            </tr>\n",
       "            <tr>\n",
       "                        <th id=\"T_aee7f7f6_5050_11ec_99eb_5e0e4dce1f8alevel0_row1\" class=\"row_heading level0 row1\" >country_2</th>\n",
       "                        <td id=\"T_aee7f7f6_5050_11ec_99eb_5e0e4dce1f8arow1_col0\" class=\"data row1 col0\" >50675</td>\n",
       "                        <td id=\"T_aee7f7f6_5050_11ec_99eb_5e0e4dce1f8arow1_col1\" class=\"data row1 col1\" >14269</td>\n",
       "                        <td id=\"T_aee7f7f6_5050_11ec_99eb_5e0e4dce1f8arow1_col2\" class=\"data row1 col2\" >28.16%</td>\n",
       "                        <td id=\"T_aee7f7f6_5050_11ec_99eb_5e0e4dce1f8arow1_col3\" class=\"data row1 col3\" >1558</td>\n",
       "                        <td id=\"T_aee7f7f6_5050_11ec_99eb_5e0e4dce1f8arow1_col4\" class=\"data row1 col4\" >10.92%</td>\n",
       "                        <td id=\"T_aee7f7f6_5050_11ec_99eb_5e0e4dce1f8arow1_col5\" class=\"data row1 col5\" >1443</td>\n",
       "                        <td id=\"T_aee7f7f6_5050_11ec_99eb_5e0e4dce1f8arow1_col6\" class=\"data row1 col6\" >92.62%</td>\n",
       "                        <td id=\"T_aee7f7f6_5050_11ec_99eb_5e0e4dce1f8arow1_col7\" class=\"data row1 col7\" >2.85%</td>\n",
       "            </tr>\n",
       "            <tr>\n",
       "                        <th id=\"T_aee7f7f6_5050_11ec_99eb_5e0e4dce1f8alevel0_row2\" class=\"row_heading level0 row2\" >country_3</th>\n",
       "                        <td id=\"T_aee7f7f6_5050_11ec_99eb_5e0e4dce1f8arow2_col0\" class=\"data row2 col0\" >2742</td>\n",
       "                        <td id=\"T_aee7f7f6_5050_11ec_99eb_5e0e4dce1f8arow2_col1\" class=\"data row2 col1\" >1082</td>\n",
       "                        <td id=\"T_aee7f7f6_5050_11ec_99eb_5e0e4dce1f8arow2_col2\" class=\"data row2 col2\" >39.46%</td>\n",
       "                        <td id=\"T_aee7f7f6_5050_11ec_99eb_5e0e4dce1f8arow2_col3\" class=\"data row2 col3\" >160</td>\n",
       "                        <td id=\"T_aee7f7f6_5050_11ec_99eb_5e0e4dce1f8arow2_col4\" class=\"data row2 col4\" >14.79%</td>\n",
       "                        <td id=\"T_aee7f7f6_5050_11ec_99eb_5e0e4dce1f8arow2_col5\" class=\"data row2 col5\" >112</td>\n",
       "                        <td id=\"T_aee7f7f6_5050_11ec_99eb_5e0e4dce1f8arow2_col6\" class=\"data row2 col6\" >70.00%</td>\n",
       "                        <td id=\"T_aee7f7f6_5050_11ec_99eb_5e0e4dce1f8arow2_col7\" class=\"data row2 col7\" >4.08%</td>\n",
       "            </tr>\n",
       "            <tr>\n",
       "                        <th id=\"T_aee7f7f6_5050_11ec_99eb_5e0e4dce1f8alevel0_row3\" class=\"row_heading level0 row3\" >country_4</th>\n",
       "                        <td id=\"T_aee7f7f6_5050_11ec_99eb_5e0e4dce1f8arow3_col0\" class=\"data row3 col0\" >12751</td>\n",
       "                        <td id=\"T_aee7f7f6_5050_11ec_99eb_5e0e4dce1f8arow3_col1\" class=\"data row3 col1\" >10167</td>\n",
       "                        <td id=\"T_aee7f7f6_5050_11ec_99eb_5e0e4dce1f8arow3_col2\" class=\"data row3 col2\" >79.73%</td>\n",
       "                        <td id=\"T_aee7f7f6_5050_11ec_99eb_5e0e4dce1f8arow3_col3\" class=\"data row3 col3\" >1419</td>\n",
       "                        <td id=\"T_aee7f7f6_5050_11ec_99eb_5e0e4dce1f8arow3_col4\" class=\"data row3 col4\" >13.96%</td>\n",
       "                        <td id=\"T_aee7f7f6_5050_11ec_99eb_5e0e4dce1f8arow3_col5\" class=\"data row3 col5\" >1096</td>\n",
       "                        <td id=\"T_aee7f7f6_5050_11ec_99eb_5e0e4dce1f8arow3_col6\" class=\"data row3 col6\" >77.24%</td>\n",
       "                        <td id=\"T_aee7f7f6_5050_11ec_99eb_5e0e4dce1f8arow3_col7\" class=\"data row3 col7\" >8.60%</td>\n",
       "            </tr>\n",
       "            <tr>\n",
       "                        <th id=\"T_aee7f7f6_5050_11ec_99eb_5e0e4dce1f8alevel0_row4\" class=\"row_heading level0 row4\" >country_5</th>\n",
       "                        <td id=\"T_aee7f7f6_5050_11ec_99eb_5e0e4dce1f8arow4_col0\" class=\"data row4 col0\" >40349</td>\n",
       "                        <td id=\"T_aee7f7f6_5050_11ec_99eb_5e0e4dce1f8arow4_col1\" class=\"data row4 col1\" >19477</td>\n",
       "                        <td id=\"T_aee7f7f6_5050_11ec_99eb_5e0e4dce1f8arow4_col2\" class=\"data row4 col2\" >48.27%</td>\n",
       "                        <td id=\"T_aee7f7f6_5050_11ec_99eb_5e0e4dce1f8arow4_col3\" class=\"data row4 col3\" >2334</td>\n",
       "                        <td id=\"T_aee7f7f6_5050_11ec_99eb_5e0e4dce1f8arow4_col4\" class=\"data row4 col4\" >11.98%</td>\n",
       "                        <td id=\"T_aee7f7f6_5050_11ec_99eb_5e0e4dce1f8arow4_col5\" class=\"data row4 col5\" >1971</td>\n",
       "                        <td id=\"T_aee7f7f6_5050_11ec_99eb_5e0e4dce1f8arow4_col6\" class=\"data row4 col6\" >84.45%</td>\n",
       "                        <td id=\"T_aee7f7f6_5050_11ec_99eb_5e0e4dce1f8arow4_col7\" class=\"data row4 col7\" >4.88%</td>\n",
       "            </tr>\n",
       "            <tr>\n",
       "                        <th id=\"T_aee7f7f6_5050_11ec_99eb_5e0e4dce1f8alevel0_row5\" class=\"row_heading level0 row5\" >country_6</th>\n",
       "                        <td id=\"T_aee7f7f6_5050_11ec_99eb_5e0e4dce1f8arow5_col0\" class=\"data row5 col0\" >31156</td>\n",
       "                        <td id=\"T_aee7f7f6_5050_11ec_99eb_5e0e4dce1f8arow5_col1\" class=\"data row5 col1\" >5930</td>\n",
       "                        <td id=\"T_aee7f7f6_5050_11ec_99eb_5e0e4dce1f8arow5_col2\" class=\"data row5 col2\" >19.03%</td>\n",
       "                        <td id=\"T_aee7f7f6_5050_11ec_99eb_5e0e4dce1f8arow5_col3\" class=\"data row5 col3\" >546</td>\n",
       "                        <td id=\"T_aee7f7f6_5050_11ec_99eb_5e0e4dce1f8arow5_col4\" class=\"data row5 col4\" >9.21%</td>\n",
       "                        <td id=\"T_aee7f7f6_5050_11ec_99eb_5e0e4dce1f8arow5_col5\" class=\"data row5 col5\" >535</td>\n",
       "                        <td id=\"T_aee7f7f6_5050_11ec_99eb_5e0e4dce1f8arow5_col6\" class=\"data row5 col6\" >97.99%</td>\n",
       "                        <td id=\"T_aee7f7f6_5050_11ec_99eb_5e0e4dce1f8arow5_col7\" class=\"data row5 col7\" >1.72%</td>\n",
       "            </tr>\n",
       "            <tr>\n",
       "                        <th id=\"T_aee7f7f6_5050_11ec_99eb_5e0e4dce1f8alevel0_row6\" class=\"row_heading level0 row6\" >country_7</th>\n",
       "                        <td id=\"T_aee7f7f6_5050_11ec_99eb_5e0e4dce1f8arow6_col0\" class=\"data row6 col0\" >51791</td>\n",
       "                        <td id=\"T_aee7f7f6_5050_11ec_99eb_5e0e4dce1f8arow6_col1\" class=\"data row6 col1\" >14417</td>\n",
       "                        <td id=\"T_aee7f7f6_5050_11ec_99eb_5e0e4dce1f8arow6_col2\" class=\"data row6 col2\" >27.84%</td>\n",
       "                        <td id=\"T_aee7f7f6_5050_11ec_99eb_5e0e4dce1f8arow6_col3\" class=\"data row6 col3\" >1470</td>\n",
       "                        <td id=\"T_aee7f7f6_5050_11ec_99eb_5e0e4dce1f8arow6_col4\" class=\"data row6 col4\" >10.20%</td>\n",
       "                        <td id=\"T_aee7f7f6_5050_11ec_99eb_5e0e4dce1f8arow6_col5\" class=\"data row6 col5\" >1381</td>\n",
       "                        <td id=\"T_aee7f7f6_5050_11ec_99eb_5e0e4dce1f8arow6_col6\" class=\"data row6 col6\" >93.95%</td>\n",
       "                        <td id=\"T_aee7f7f6_5050_11ec_99eb_5e0e4dce1f8arow6_col7\" class=\"data row6 col7\" >2.67%</td>\n",
       "            </tr>\n",
       "            <tr>\n",
       "                        <th id=\"T_aee7f7f6_5050_11ec_99eb_5e0e4dce1f8alevel0_row7\" class=\"row_heading level0 row7\" >country_8</th>\n",
       "                        <td id=\"T_aee7f7f6_5050_11ec_99eb_5e0e4dce1f8arow7_col0\" class=\"data row7 col0\" >15483</td>\n",
       "                        <td id=\"T_aee7f7f6_5050_11ec_99eb_5e0e4dce1f8arow7_col1\" class=\"data row7 col1\" >698</td>\n",
       "                        <td id=\"T_aee7f7f6_5050_11ec_99eb_5e0e4dce1f8arow7_col2\" class=\"data row7 col2\" >4.51%</td>\n",
       "                        <td id=\"T_aee7f7f6_5050_11ec_99eb_5e0e4dce1f8arow7_col3\" class=\"data row7 col3\" >103</td>\n",
       "                        <td id=\"T_aee7f7f6_5050_11ec_99eb_5e0e4dce1f8arow7_col4\" class=\"data row7 col4\" >14.76%</td>\n",
       "                        <td id=\"T_aee7f7f6_5050_11ec_99eb_5e0e4dce1f8arow7_col5\" class=\"data row7 col5\" >85</td>\n",
       "                        <td id=\"T_aee7f7f6_5050_11ec_99eb_5e0e4dce1f8arow7_col6\" class=\"data row7 col6\" >82.52%</td>\n",
       "                        <td id=\"T_aee7f7f6_5050_11ec_99eb_5e0e4dce1f8arow7_col7\" class=\"data row7 col7\" >0.55%</td>\n",
       "            </tr>\n",
       "    </tbody></table>"
      ],
      "text/plain": [
       "<pandas.io.formats.style.Styler at 0x7fda54dccba8>"
      ]
     },
     "execution_count": 86,
     "metadata": {},
     "output_type": "execute_result"
    }
   ],
   "source": [
    "country_funnel.style.format({\n",
    "    \"%_first_readers\": '{:,.2%}'.format,\n",
    "    \"%_readers_sub\": '{:,.2%}'.format,\n",
    "    \"%_sub_buy\": '{:,.2%}'.format,\n",
    "    \"%_first_buy\": '{:,.2%}'.format\n",
    "})"
   ]
  },
  {
   "cell_type": "code",
   "execution_count": 87,
   "id": "1c4aa0f0",
   "metadata": {},
   "outputs": [],
   "source": [
    "country_fun = country_funnel.drop(country_funnel.columns[[2,4,6]], 1)"
   ]
  },
  {
   "cell_type": "code",
   "execution_count": 88,
   "id": "7d4a2cec",
   "metadata": {},
   "outputs": [],
   "source": [
    "## Table of sources by each funnel"
   ]
  },
  {
   "cell_type": "code",
   "execution_count": 89,
   "id": "b3d9f73d",
   "metadata": {},
   "outputs": [],
   "source": [
    "source_funnel = first.groupby(\"source\").count()[[\"event_type\"]]\n",
    "source_funnel = source_funnel.rename(columns={\"event_type\":\"first\"})\n",
    "source_funnel[\"readers\"] = first.loc[first[\"readers\"] == 1].groupby(\"source\").count()[[\"event_type\"]]\n",
    "source_funnel[\"sub\"] = first.loc[first[\"subscriber\"] == 1].groupby(\"source\").count()[[\"event_type\"]]\n",
    "source_funnel[\"buy\"] = first.loc[first[\"buyer\"] == 1].groupby(\"source\").count()[[\"event_type\"]]"
   ]
  },
  {
   "cell_type": "code",
   "execution_count": 90,
   "id": "c84c54ae",
   "metadata": {},
   "outputs": [
    {
     "data": {
      "text/html": [
       "<div>\n",
       "<style scoped>\n",
       "    .dataframe tbody tr th:only-of-type {\n",
       "        vertical-align: middle;\n",
       "    }\n",
       "\n",
       "    .dataframe tbody tr th {\n",
       "        vertical-align: top;\n",
       "    }\n",
       "\n",
       "    .dataframe thead th {\n",
       "        text-align: right;\n",
       "    }\n",
       "</style>\n",
       "<table border=\"1\" class=\"dataframe\">\n",
       "  <thead>\n",
       "    <tr style=\"text-align: right;\">\n",
       "      <th></th>\n",
       "      <th>first</th>\n",
       "      <th>readers</th>\n",
       "      <th>sub</th>\n",
       "      <th>buy</th>\n",
       "    </tr>\n",
       "    <tr>\n",
       "      <th>source</th>\n",
       "      <th></th>\n",
       "      <th></th>\n",
       "      <th></th>\n",
       "      <th></th>\n",
       "    </tr>\n",
       "  </thead>\n",
       "  <tbody>\n",
       "    <tr>\n",
       "      <th>AdWords</th>\n",
       "      <td>63065</td>\n",
       "      <td>10460</td>\n",
       "      <td>1072</td>\n",
       "      <td>1029</td>\n",
       "    </tr>\n",
       "    <tr>\n",
       "      <th>Reddit</th>\n",
       "      <td>105216</td>\n",
       "      <td>31167</td>\n",
       "      <td>3443</td>\n",
       "      <td>3094</td>\n",
       "    </tr>\n",
       "    <tr>\n",
       "      <th>SEO</th>\n",
       "      <td>41742</td>\n",
       "      <td>24604</td>\n",
       "      <td>3103</td>\n",
       "      <td>2525</td>\n",
       "    </tr>\n",
       "  </tbody>\n",
       "</table>\n",
       "</div>"
      ],
      "text/plain": [
       "          first  readers   sub   buy\n",
       "source                              \n",
       "AdWords   63065    10460  1072  1029\n",
       "Reddit   105216    31167  3443  3094\n",
       "SEO       41742    24604  3103  2525"
      ]
     },
     "execution_count": 90,
     "metadata": {},
     "output_type": "execute_result"
    }
   ],
   "source": [
    "source_funnel"
   ]
  },
  {
   "cell_type": "code",
   "execution_count": 91,
   "id": "60a1721c",
   "metadata": {},
   "outputs": [
    {
     "data": {
      "text/html": [
       "<div>\n",
       "<style scoped>\n",
       "    .dataframe tbody tr th:only-of-type {\n",
       "        vertical-align: middle;\n",
       "    }\n",
       "\n",
       "    .dataframe tbody tr th {\n",
       "        vertical-align: top;\n",
       "    }\n",
       "\n",
       "    .dataframe thead th {\n",
       "        text-align: right;\n",
       "    }\n",
       "</style>\n",
       "<table border=\"1\" class=\"dataframe\">\n",
       "  <thead>\n",
       "    <tr style=\"text-align: right;\">\n",
       "      <th></th>\n",
       "      <th></th>\n",
       "      <th>buyer</th>\n",
       "    </tr>\n",
       "    <tr>\n",
       "      <th>country</th>\n",
       "      <th>source</th>\n",
       "      <th></th>\n",
       "    </tr>\n",
       "  </thead>\n",
       "  <tbody>\n",
       "    <tr>\n",
       "      <th>country_1</th>\n",
       "      <th>SEO</th>\n",
       "      <td>25</td>\n",
       "    </tr>\n",
       "    <tr>\n",
       "      <th rowspan=\"3\" valign=\"top\">country_2</th>\n",
       "      <th>AdWords</th>\n",
       "      <td>141</td>\n",
       "    </tr>\n",
       "    <tr>\n",
       "      <th>Reddit</th>\n",
       "      <td>686</td>\n",
       "    </tr>\n",
       "    <tr>\n",
       "      <th>SEO</th>\n",
       "      <td>616</td>\n",
       "    </tr>\n",
       "    <tr>\n",
       "      <th rowspan=\"3\" valign=\"top\">country_3</th>\n",
       "      <th>AdWords</th>\n",
       "      <td>11</td>\n",
       "    </tr>\n",
       "    <tr>\n",
       "      <th>Reddit</th>\n",
       "      <td>61</td>\n",
       "    </tr>\n",
       "    <tr>\n",
       "      <th>SEO</th>\n",
       "      <td>40</td>\n",
       "    </tr>\n",
       "    <tr>\n",
       "      <th rowspan=\"3\" valign=\"top\">country_4</th>\n",
       "      <th>AdWords</th>\n",
       "      <td>308</td>\n",
       "    </tr>\n",
       "    <tr>\n",
       "      <th>Reddit</th>\n",
       "      <td>521</td>\n",
       "    </tr>\n",
       "    <tr>\n",
       "      <th>SEO</th>\n",
       "      <td>267</td>\n",
       "    </tr>\n",
       "    <tr>\n",
       "      <th rowspan=\"3\" valign=\"top\">country_5</th>\n",
       "      <th>AdWords</th>\n",
       "      <td>380</td>\n",
       "    </tr>\n",
       "    <tr>\n",
       "      <th>Reddit</th>\n",
       "      <td>937</td>\n",
       "    </tr>\n",
       "    <tr>\n",
       "      <th>SEO</th>\n",
       "      <td>654</td>\n",
       "    </tr>\n",
       "    <tr>\n",
       "      <th rowspan=\"3\" valign=\"top\">country_6</th>\n",
       "      <th>AdWords</th>\n",
       "      <td>27</td>\n",
       "    </tr>\n",
       "    <tr>\n",
       "      <th>Reddit</th>\n",
       "      <td>253</td>\n",
       "    </tr>\n",
       "    <tr>\n",
       "      <th>SEO</th>\n",
       "      <td>255</td>\n",
       "    </tr>\n",
       "    <tr>\n",
       "      <th rowspan=\"3\" valign=\"top\">country_7</th>\n",
       "      <th>AdWords</th>\n",
       "      <td>161</td>\n",
       "    </tr>\n",
       "    <tr>\n",
       "      <th>Reddit</th>\n",
       "      <td>636</td>\n",
       "    </tr>\n",
       "    <tr>\n",
       "      <th>SEO</th>\n",
       "      <td>584</td>\n",
       "    </tr>\n",
       "    <tr>\n",
       "      <th rowspan=\"2\" valign=\"top\">country_8</th>\n",
       "      <th>AdWords</th>\n",
       "      <td>1</td>\n",
       "    </tr>\n",
       "    <tr>\n",
       "      <th>SEO</th>\n",
       "      <td>84</td>\n",
       "    </tr>\n",
       "  </tbody>\n",
       "</table>\n",
       "</div>"
      ],
      "text/plain": [
       "                   buyer\n",
       "country   source        \n",
       "country_1 SEO         25\n",
       "country_2 AdWords    141\n",
       "          Reddit     686\n",
       "          SEO        616\n",
       "country_3 AdWords     11\n",
       "          Reddit      61\n",
       "          SEO         40\n",
       "country_4 AdWords    308\n",
       "          Reddit     521\n",
       "          SEO        267\n",
       "country_5 AdWords    380\n",
       "          Reddit     937\n",
       "          SEO        654\n",
       "country_6 AdWords     27\n",
       "          Reddit     253\n",
       "          SEO        255\n",
       "country_7 AdWords    161\n",
       "          Reddit     636\n",
       "          SEO        584\n",
       "country_8 AdWords      1\n",
       "          SEO         84"
      ]
     },
     "execution_count": 91,
     "metadata": {},
     "output_type": "execute_result"
    }
   ],
   "source": [
    "first.loc[first[\"buyer\"] == 1].groupby([\"country\", \"source\"]).sum()[[\"buyer\"]]"
   ]
  },
  {
   "cell_type": "code",
   "execution_count": 92,
   "id": "2c11be04",
   "metadata": {},
   "outputs": [
    {
     "data": {
      "text/html": [
       "<div>\n",
       "<style scoped>\n",
       "    .dataframe tbody tr th:only-of-type {\n",
       "        vertical-align: middle;\n",
       "    }\n",
       "\n",
       "    .dataframe tbody tr th {\n",
       "        vertical-align: top;\n",
       "    }\n",
       "\n",
       "    .dataframe thead th {\n",
       "        text-align: right;\n",
       "    }\n",
       "</style>\n",
       "<table border=\"1\" class=\"dataframe\">\n",
       "  <thead>\n",
       "    <tr style=\"text-align: right;\">\n",
       "      <th></th>\n",
       "      <th></th>\n",
       "      <th>buyer</th>\n",
       "    </tr>\n",
       "    <tr>\n",
       "      <th>country</th>\n",
       "      <th>topic</th>\n",
       "      <th></th>\n",
       "    </tr>\n",
       "  </thead>\n",
       "  <tbody>\n",
       "    <tr>\n",
       "      <th rowspan=\"3\" valign=\"top\">country_1</th>\n",
       "      <th>Asia</th>\n",
       "      <td>8</td>\n",
       "    </tr>\n",
       "    <tr>\n",
       "      <th>Europe</th>\n",
       "      <td>9</td>\n",
       "    </tr>\n",
       "    <tr>\n",
       "      <th>North America</th>\n",
       "      <td>8</td>\n",
       "    </tr>\n",
       "    <tr>\n",
       "      <th rowspan=\"4\" valign=\"top\">country_2</th>\n",
       "      <th>Asia</th>\n",
       "      <td>908</td>\n",
       "    </tr>\n",
       "    <tr>\n",
       "      <th>Europe</th>\n",
       "      <td>125</td>\n",
       "    </tr>\n",
       "    <tr>\n",
       "      <th>North America</th>\n",
       "      <td>351</td>\n",
       "    </tr>\n",
       "    <tr>\n",
       "      <th>South America</th>\n",
       "      <td>59</td>\n",
       "    </tr>\n",
       "    <tr>\n",
       "      <th rowspan=\"5\" valign=\"top\">country_3</th>\n",
       "      <th>Africa</th>\n",
       "      <td>1</td>\n",
       "    </tr>\n",
       "    <tr>\n",
       "      <th>Asia</th>\n",
       "      <td>75</td>\n",
       "    </tr>\n",
       "    <tr>\n",
       "      <th>Europe</th>\n",
       "      <td>15</td>\n",
       "    </tr>\n",
       "    <tr>\n",
       "      <th>North America</th>\n",
       "      <td>16</td>\n",
       "    </tr>\n",
       "    <tr>\n",
       "      <th>South America</th>\n",
       "      <td>5</td>\n",
       "    </tr>\n",
       "    <tr>\n",
       "      <th rowspan=\"6\" valign=\"top\">country_4</th>\n",
       "      <th>Africa</th>\n",
       "      <td>14</td>\n",
       "    </tr>\n",
       "    <tr>\n",
       "      <th>Asia</th>\n",
       "      <td>507</td>\n",
       "    </tr>\n",
       "    <tr>\n",
       "      <th>Australia</th>\n",
       "      <td>24</td>\n",
       "    </tr>\n",
       "    <tr>\n",
       "      <th>Europe</th>\n",
       "      <td>231</td>\n",
       "    </tr>\n",
       "    <tr>\n",
       "      <th>North America</th>\n",
       "      <td>223</td>\n",
       "    </tr>\n",
       "    <tr>\n",
       "      <th>South America</th>\n",
       "      <td>97</td>\n",
       "    </tr>\n",
       "    <tr>\n",
       "      <th rowspan=\"6\" valign=\"top\">country_5</th>\n",
       "      <th>Africa</th>\n",
       "      <td>16</td>\n",
       "    </tr>\n",
       "    <tr>\n",
       "      <th>Asia</th>\n",
       "      <td>1101</td>\n",
       "    </tr>\n",
       "    <tr>\n",
       "      <th>Australia</th>\n",
       "      <td>7</td>\n",
       "    </tr>\n",
       "    <tr>\n",
       "      <th>Europe</th>\n",
       "      <td>356</td>\n",
       "    </tr>\n",
       "    <tr>\n",
       "      <th>North America</th>\n",
       "      <td>385</td>\n",
       "    </tr>\n",
       "    <tr>\n",
       "      <th>South America</th>\n",
       "      <td>106</td>\n",
       "    </tr>\n",
       "    <tr>\n",
       "      <th rowspan=\"4\" valign=\"top\">country_6</th>\n",
       "      <th>Asia</th>\n",
       "      <td>343</td>\n",
       "    </tr>\n",
       "    <tr>\n",
       "      <th>Europe</th>\n",
       "      <td>45</td>\n",
       "    </tr>\n",
       "    <tr>\n",
       "      <th>North America</th>\n",
       "      <td>129</td>\n",
       "    </tr>\n",
       "    <tr>\n",
       "      <th>South America</th>\n",
       "      <td>18</td>\n",
       "    </tr>\n",
       "    <tr>\n",
       "      <th rowspan=\"4\" valign=\"top\">country_7</th>\n",
       "      <th>Asia</th>\n",
       "      <td>869</td>\n",
       "    </tr>\n",
       "    <tr>\n",
       "      <th>Europe</th>\n",
       "      <td>122</td>\n",
       "    </tr>\n",
       "    <tr>\n",
       "      <th>North America</th>\n",
       "      <td>323</td>\n",
       "    </tr>\n",
       "    <tr>\n",
       "      <th>South America</th>\n",
       "      <td>67</td>\n",
       "    </tr>\n",
       "    <tr>\n",
       "      <th rowspan=\"3\" valign=\"top\">country_8</th>\n",
       "      <th>Asia</th>\n",
       "      <td>24</td>\n",
       "    </tr>\n",
       "    <tr>\n",
       "      <th>Europe</th>\n",
       "      <td>29</td>\n",
       "    </tr>\n",
       "    <tr>\n",
       "      <th>North America</th>\n",
       "      <td>32</td>\n",
       "    </tr>\n",
       "  </tbody>\n",
       "</table>\n",
       "</div>"
      ],
      "text/plain": [
       "                         buyer\n",
       "country   topic               \n",
       "country_1 Asia               8\n",
       "          Europe             9\n",
       "          North America      8\n",
       "country_2 Asia             908\n",
       "          Europe           125\n",
       "          North America    351\n",
       "          South America     59\n",
       "country_3 Africa             1\n",
       "          Asia              75\n",
       "          Europe            15\n",
       "          North America     16\n",
       "          South America      5\n",
       "country_4 Africa            14\n",
       "          Asia             507\n",
       "          Australia         24\n",
       "          Europe           231\n",
       "          North America    223\n",
       "          South America     97\n",
       "country_5 Africa            16\n",
       "          Asia            1101\n",
       "          Australia          7\n",
       "          Europe           356\n",
       "          North America    385\n",
       "          South America    106\n",
       "country_6 Asia             343\n",
       "          Europe            45\n",
       "          North America    129\n",
       "          South America     18\n",
       "country_7 Asia             869\n",
       "          Europe           122\n",
       "          North America    323\n",
       "          South America     67\n",
       "country_8 Asia              24\n",
       "          Europe            29\n",
       "          North America     32"
      ]
     },
     "execution_count": 92,
     "metadata": {},
     "output_type": "execute_result"
    }
   ],
   "source": [
    "first.loc[first[\"buyer\"] == 1].groupby([\"country\", \"topic\"]).sum()[[\"buyer\"]]"
   ]
  }
 ],
 "metadata": {
  "kernelspec": {
   "display_name": "Python 3",
   "language": "python",
   "name": "python3"
  },
  "language_info": {
   "codemirror_mode": {
    "name": "ipython",
    "version": 3
   },
   "file_extension": ".py",
   "mimetype": "text/x-python",
   "name": "python",
   "nbconvert_exporter": "python",
   "pygments_lexer": "ipython3",
   "version": "3.6.9"
  }
 },
 "nbformat": 4,
 "nbformat_minor": 5
}
